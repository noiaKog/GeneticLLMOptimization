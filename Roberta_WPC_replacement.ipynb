{
  "cells": [
    {
      "cell_type": "markdown",
      "metadata": {
        "id": "DoQA2Xh88GMg"
      },
      "source": [
        "# Installs"
      ]
    },
    {
      "cell_type": "code",
      "execution_count": null,
      "metadata": {
        "id": "n9CvYOlQ8RjX"
      },
      "outputs": [],
      "source": [
        "# !pip install transformers --q"
      ]
    },
    {
      "cell_type": "code",
      "execution_count": null,
      "metadata": {
        "id": "AC4opZOB8Wao"
      },
      "outputs": [],
      "source": [
        "# !pip install torch --q"
      ]
    },
    {
      "cell_type": "code",
      "execution_count": null,
      "metadata": {
        "id": "6JnD_GTy8Yei"
      },
      "outputs": [],
      "source": [
        "# pip install einops --q"
      ]
    },
    {
      "cell_type": "code",
      "execution_count": null,
      "metadata": {
        "colab": {
          "base_uri": "https://localhost:8080/"
        },
        "id": "zGvEjmqK8aKY",
        "outputId": "bcdb96f3-9dc8-4c8c-d860-066d821ee330"
      },
      "outputs": [
        {
          "name": "stdout",
          "output_type": "stream",
          "text": [
            "Note: you may need to restart the kernel to use updated packages.\n"
          ]
        }
      ],
      "source": [
        "# pip install biopython --q"
      ]
    },
    {
      "cell_type": "markdown",
      "metadata": {
        "id": "FfIwAoaa8L4E"
      },
      "source": [
        "# Imports"
      ]
    },
    {
      "cell_type": "code",
      "execution_count": null,
      "metadata": {
        "id": "R065s4sd77Uh",
        "scrolled": true,
        "outputId": "e8d9bbfe-f2cc-4fd6-9ae3-28bcca793936"
      },
      "outputs": [
        {
          "name": "stderr",
          "output_type": "stream",
          "text": [
            "/storage/modules/packages/anaconda/lib/python3.11/site-packages/transformers/utils/generic.py:260: UserWarning: torch.utils._pytree._register_pytree_node is deprecated. Please use torch.utils._pytree.register_pytree_node instead.\n",
            "  torch.utils._pytree._register_pytree_node(\n",
            "/storage/modules/packages/anaconda/lib/python3.11/site-packages/transformers/utils/generic.py:260: UserWarning: torch.utils._pytree._register_pytree_node is deprecated. Please use torch.utils._pytree.register_pytree_node instead.\n",
            "  torch.utils._pytree._register_pytree_node(\n"
          ]
        }
      ],
      "source": [
        "from Bio import SeqIO\n",
        "import torch\n",
        "from transformers import AutoTokenizer, AutoModel\n",
        "import random\n",
        "import numpy as np\n",
        "from sklearn.metrics import accuracy_score, precision_score, recall_score, f1_score\n",
        "from sklearn.model_selection import train_test_split\n",
        "from transformers import BertTokenizer, BertForSequenceClassification, AdamW\n",
        "from torch.utils.data import DataLoader, TensorDataset\n",
        "from torch.utils.data import random_split\n",
        "import torch.nn.functional as F\n",
        "import matplotlib.pyplot as plt\n",
        "from collections import defaultdict\n",
        "import pickle\n",
        "from transformers import TFBertForSequenceClassification\n",
        "from transformers import OpenAIGPTConfig, OpenAIGPTModel\n",
        "import torch\n",
        "import pandas as pd\n",
        "from tokenizers import Tokenizer\n",
        "from tokenizers.models import BPE, Unigram, WordLevel, WordPiece\n",
        "from tokenizers.trainers import BpeTrainer, WordLevelTrainer,WordPieceTrainer, UnigramTrainer\n",
        "from tokenizers.pre_tokenizers import Sequence, Digits, Whitespace\n",
        "from transformers import PreTrainedTokenizerFast\n",
        "import random\n",
        "from tokenizers import Tokenizer, models, trainers\n",
        "from transformers import BertConfig, BertForSequenceClassification, DataCollatorForLanguageModeling, Trainer, TrainingArguments\n",
        "from torch.nn.utils.rnn import pad_sequence\n",
        "from transformers import AutoTokenizer, BertForMaskedLM\n",
        "import pandas as pd\n",
        "from transformers import BertTokenizer, BertForMaskedLM\n",
        "from torch.utils.data import Dataset, DataLoader\n",
        "from transformers import BertConfig, BertForMaskedLM\n",
        "from tqdm import tqdm\n",
        "import pandas as pd\n",
        "import numpy as np\n",
        "from transformers import BertTokenizer, BertModel , RobertaTokenizer, TFRobertaModel , AutoTokenizer, AutoModel\n",
        "from torch import nn\n",
        "from torch.optim import Adam\n",
        "from tqdm import tqdm\n",
        "import matplotlib.pyplot as plt\n",
        "import random\n",
        "from transformers import RobertaForMaskedLM, RobertaTokenizer, RobertaTokenizerFast, RobertaConfig\n",
        "from tokenizers import Tokenizer, models, pre_tokenizers, decoders, trainers, processors\n",
        "from transformers import RobertaForSequenceClassification\n",
        "import os\n",
        "from sklearn.metrics import confusion_matrix\n",
        "import json"
      ]
    },
    {
      "cell_type": "markdown",
      "metadata": {
        "id": "JZP85D-n8qE6"
      },
      "source": [
        "# Device"
      ]
    },
    {
      "cell_type": "code",
      "execution_count": null,
      "metadata": {
        "id": "3EUqzsOz8iO7"
      },
      "outputs": [],
      "source": [
        "device = torch.device('cuda' if torch.cuda.is_available() else 'cpu')"
      ]
    },
    {
      "cell_type": "code",
      "execution_count": null,
      "metadata": {
        "id": "XRT_f1_tSovu",
        "outputId": "79f88001-77ad-4d84-f006-e232cd9782e0"
      },
      "outputs": [
        {
          "data": {
            "text/plain": [
              "device(type='cuda')"
            ]
          },
          "execution_count": 4,
          "metadata": {},
          "output_type": "execute_result"
        }
      ],
      "source": [
        "device"
      ]
    },
    {
      "cell_type": "markdown",
      "metadata": {
        "id": "_rd2UMue9r-k"
      },
      "source": [
        "# Tokenizers"
      ]
    },
    {
      "cell_type": "markdown",
      "metadata": {
        "id": "C7-5lw-TSovx"
      },
      "source": [
        "את שני התאים הבאים צריך להריץ בשביל המסקינג"
      ]
    },
    {
      "cell_type": "code",
      "execution_count": null,
      "metadata": {
        "id": "Em_CiUXKe4Dq"
      },
      "outputs": [],
      "source": [
        "all_data_pos = pd.read_csv('data_exp1/all_data_combined_df.csv', index_col = False)\n",
        "all_data_pos['True_label']=1\n",
        "\n",
        "train_df, validation_df = train_test_split(all_data_pos, test_size=0.2, random_state=42)"
      ]
    },
    {
      "cell_type": "code",
      "execution_count": null,
      "metadata": {
        "id": "4KUOMuaFOyv5"
      },
      "outputs": [],
      "source": [
        "#this will be used for training the tokenizers\n",
        "df_sequences = all_data_pos['seq'].tolist()\n",
        "df_labels = all_data_pos['True_label'].tolist()\n",
        "\n",
        "#this will be used for the pre-train(masking)\n",
        "df_train_sequences = train_df['seq'].tolist()\n",
        "df_train_labels = train_df['True_label'].tolist()\n",
        "\n",
        "df_val_sequences = validation_df['seq'].tolist()\n",
        "df_val_labels = validation_df['True_label'].tolist()"
      ]
    },
    {
      "cell_type": "markdown",
      "metadata": {
        "id": "_GKYy_xvrOZA",
        "jp-MarkdownHeadingCollapsed": true
      },
      "source": [
        "# wpc - Pretrained"
      ]
    },
    {
      "cell_type": "code",
      "execution_count": null,
      "metadata": {
        "id": "W8QUIpk8rne5"
      },
      "outputs": [],
      "source": [
        "class DNADataset(Dataset):\n",
        "    def __init__(self, sequences, tokenizer, max_length=6):\n",
        "        self.sequences = sequences\n",
        "        self.tokenizer = tokenizer\n",
        "        self.max_length = max_length\n",
        "\n",
        "    def __len__(self):\n",
        "        return len(self.sequences)\n",
        "\n",
        "    def __getitem__(self, idx):\n",
        "        sequence = self.sequences[idx]\n",
        "        inputs = self.tokenizer(\n",
        "            sequence,\n",
        "            padding='max_length',\n",
        "            truncation=True,\n",
        "            max_length=self.max_length,\n",
        "            return_tensors=\"pt\"\n",
        "        )\n",
        "        inputs = {key: val.squeeze(0) for key, val in inputs.items()}  # Remove batch dimension\n",
        "        inputs['labels'] = inputs['input_ids'].clone()\n",
        "        return inputs"
      ]
    },
    {
      "cell_type": "code",
      "execution_count": null,
      "metadata": {
        "id": "h_clsbTzUUBB"
      },
      "outputs": [],
      "source": [
        "UNK_TOKEN = \"[UNK]\"  # token for unknown words\n",
        "SPL_TOKENS = [\"[PAD]\", \"[UNK]\", \"[CLS]\", \"[SEP]\", \"[MASK]\"]"
      ]
    },
    {
      "cell_type": "code",
      "execution_count": null,
      "metadata": {
        "id": "0v_XK6R6SowJ"
      },
      "outputs": [],
      "source": [
        "def batch_iterator(dataset):\n",
        "    batch_size = 10000\n",
        "    for i in range(0, len(dataset), batch_size):\n",
        "        yield dataset[i : i + batch_size]\n",
        "\n",
        "\n",
        "def train_biological_tokenizer():\n",
        "\n",
        "    \"\"\"\n",
        "    Reads the data from folder, trains the tokenizer, encode the sequences and returns list of data for BERT training\n",
        "    \"\"\"\n",
        "    X_train = df_sequences\n",
        "    y_train = df_labels\n",
        "    tokenizer = Tokenizer(WordPiece(unk_token = UNK_TOKEN, max_input_chars_per_word=601))\n",
        "    trainer = WordPieceTrainer(special_tokens = SPL_TOKENS, continuing_subword_prefix=\"\")\n",
        "    tokenizer.pre_tokenizer = Whitespace()\n",
        "    tokenizer.train_from_iterator(batch_iterator(X_train), trainer) # training the tokenzier\n",
        "\n",
        "    return tokenizer"
      ]
    },
    {
      "cell_type": "code",
      "execution_count": null,
      "metadata": {
        "id": "2c3OBwYVSowJ",
        "outputId": "79d24bfe-182b-4c6f-8675-70d8273b026a"
      },
      "outputs": [
        {
          "name": "stdout",
          "output_type": "stream",
          "text": [
            "\n",
            "\n",
            "\n"
          ]
        }
      ],
      "source": [
        "tokenizer = train_biological_tokenizer()"
      ]
    },
    {
      "cell_type": "code",
      "execution_count": null,
      "metadata": {
        "id": "fKUD7fUSSowJ",
        "outputId": "027b2e72-f24c-4267-ecd5-2a073bcb9b96"
      },
      "outputs": [
        {
          "name": "stdout",
          "output_type": "stream",
          "text": [
            "Token length: 1, Count: 5\n",
            "Token length: 2, Count: 14\n",
            "Token length: 3, Count: 42\n",
            "Token length: 4, Count: 158\n",
            "Token length: 5, Count: 390\n",
            "Token length: 6, Count: 1143\n",
            "Token length: 7, Count: 4412\n",
            "Token length: 8, Count: 11231\n",
            "Token length: 9, Count: 9177\n",
            "Token length: 10, Count: 2349\n",
            "Token length: 11, Count: 589\n",
            "Token length: 12, Count: 258\n",
            "Token length: 13, Count: 49\n",
            "Token length: 14, Count: 33\n",
            "Token length: 15, Count: 21\n",
            "Token length: 16, Count: 38\n",
            "Token length: 17, Count: 3\n",
            "Token length: 18, Count: 13\n",
            "Token length: 19, Count: 5\n",
            "Token length: 20, Count: 13\n",
            "Token length: 21, Count: 3\n",
            "Token length: 22, Count: 1\n",
            "Token length: 24, Count: 15\n",
            "Token length: 25, Count: 1\n",
            "Token length: 26, Count: 1\n",
            "Token length: 28, Count: 3\n",
            "Token length: 32, Count: 13\n",
            "Token length: 35, Count: 1\n",
            "Token length: 40, Count: 5\n",
            "Token length: 44, Count: 2\n",
            "Token length: 48, Count: 4\n",
            "Token length: 64, Count: 6\n",
            "Token length: 96, Count: 1\n",
            "Token length: 128, Count: 1\n"
          ]
        }
      ],
      "source": [
        "from collections import defaultdict\n",
        "vocab = tokenizer.get_vocab()\n",
        "\n",
        "# Initialize a dictionary to store counts of each token length\n",
        "token_length_counts = defaultdict(int)\n",
        "\n",
        "# Iterate through the vocabulary and count the lengths of the tokens\n",
        "for token in vocab:\n",
        "    token_length = len(token)\n",
        "    token_length_counts[token_length] += 1\n",
        "\n",
        "# Sort the counts by token length\n",
        "sorted_token_length_counts = dict(sorted(token_length_counts.items()))\n",
        "\n",
        "# Print the counts of tokens for each length\n",
        "for length, count in sorted_token_length_counts.items():\n",
        "    print(f\"Token length: {length}, Count: {count}\")"
      ]
    },
    {
      "cell_type": "code",
      "execution_count": null,
      "metadata": {
        "id": "fpiV2NPvSowK"
      },
      "outputs": [],
      "source": [
        "roberta_tokenizer = RobertaTokenizerFast(tokenizer_object=tokenizer, pad_token=\"[PAD]\")"
      ]
    },
    {
      "cell_type": "code",
      "execution_count": null,
      "metadata": {
        "id": "gWWxIfDgSowK",
        "outputId": "2cf2da31-2e77-4000-edbb-e66424feadf8"
      },
      "outputs": [
        {
          "data": {
            "text/plain": [
              "('models/wpc_tokenizer_rep/tokenizer_config.json',\n",
              " 'models/wpc_tokenizer_rep/special_tokens_map.json',\n",
              " 'models/wpc_tokenizer_rep/vocab.txt',\n",
              " 'models/wpc_tokenizer_rep/added_tokens.json',\n",
              " 'models/wpc_tokenizer_rep/tokenizer.json')"
            ]
          },
          "execution_count": 13,
          "metadata": {},
          "output_type": "execute_result"
        }
      ],
      "source": [
        "roberta_tokenizer.save_pretrained(\"models/wpc_tokenizer_rep\")"
      ]
    },
    {
      "cell_type": "code",
      "execution_count": null,
      "metadata": {
        "id": "YFoYrqGxwT_x",
        "outputId": "4dd7e4d7-a3c0-458b-b2df-6f7b6f2ec692"
      },
      "outputs": [
        {
          "name": "stderr",
          "output_type": "stream",
          "text": [
            "Special tokens have been added in the vocabulary, make sure the associated word embeddings are fine-tuned or trained.\n"
          ]
        }
      ],
      "source": [
        "# roberta_tokenizer = RobertaTokenizerFast.from_pretrained(\"models/wpc_tokenizer_rep\")"
      ]
    },
    {
      "cell_type": "code",
      "execution_count": null,
      "metadata": {
        "id": "vhaJCjaDSowM"
      },
      "outputs": [],
      "source": [
        "# Create a dataset object\n",
        "train_dataset = DNADataset(df_train_sequences, tokenizer = roberta_tokenizer)\n",
        "validation_dataset = DNADataset(df_val_sequences, tokenizer = roberta_tokenizer)\n",
        "\n",
        "# Create a dataloader\n",
        "batch_size = 8\n",
        "train_dataloader = DataLoader(train_dataset, batch_size=batch_size, shuffle=True)\n",
        "validation_dataloader = DataLoader(validation_dataset, batch_size=batch_size, shuffle=True)"
      ]
    },
    {
      "cell_type": "code",
      "execution_count": null,
      "metadata": {
        "id": "3_i4O10QwT_y",
        "outputId": "cb095c46-9da8-4cd5-eac0-22660c81bb27"
      },
      "outputs": [
        {
          "name": "stdout",
          "output_type": "stream",
          "text": [
            "Pad token ID: 0\n",
            "BOS token ID: 30000\n",
            "EOS token ID: 30001\n"
          ]
        }
      ],
      "source": [
        "# Define special tokens (if not already defined in the tokenizer)\n",
        "special_tokens = {\n",
        "    'pad_token': '<pad>',\n",
        "    'bos_token': '<s>',\n",
        "    'eos_token': '</s>',\n",
        "    'unk_token': '<unk>',\n",
        "    'cls_token': '<cls>',\n",
        "    'sep_token': '<sep>',\n",
        "    'mask_token': '<mask>'\n",
        "}\n",
        "\n",
        "# Add special tokens to the tokenizer\n",
        "roberta_tokenizer.add_special_tokens({'additional_special_tokens': list(special_tokens.values())})\n",
        "\n",
        "# Resize the tokenizer vocabulary to include the new special tokens\n",
        "roberta_tokenizer.add_tokens([token for token in special_tokens.values()])\n",
        "\n",
        "# Retrieve the special token IDs\n",
        "pad_token_id = roberta_tokenizer.convert_tokens_to_ids(roberta_tokenizer.pad_token)\n",
        "bos_token_id = roberta_tokenizer.convert_tokens_to_ids(roberta_tokenizer.bos_token)\n",
        "eos_token_id = roberta_tokenizer.convert_tokens_to_ids(roberta_tokenizer.eos_token)\n",
        "\n",
        "# Print the token IDs to verify\n",
        "print(\"Pad token ID:\", pad_token_id)\n",
        "print(\"BOS token ID:\", bos_token_id)\n",
        "print(\"EOS token ID:\", eos_token_id)\n",
        "\n",
        "# Ensure the token IDs are within the updated vocabulary size\n",
        "updated_vocab_size = len(roberta_tokenizer)\n",
        "assert pad_token_id < updated_vocab_size, \"Padding_idx must be within num_embeddings\"\n",
        "assert bos_token_id < updated_vocab_size, \"BOS token ID must be within num_embeddings\"\n",
        "assert eos_token_id < updated_vocab_size, \"EOS token ID must be within num_embeddings\""
      ]
    },
    {
      "cell_type": "code",
      "execution_count": null,
      "metadata": {
        "id": "Pt46l2jPtgWs"
      },
      "outputs": [],
      "source": [
        "# # Initialize the model - pretrined model\n",
        "# model = RobertaForMaskedLM.from_pretrained(\"roberta-base\").to(device)\n",
        "\n",
        "# Define model configuration\n",
        "config = RobertaConfig(\n",
        "    vocab_size=updated_vocab_size,\n",
        "    max_position_embeddings=514,\n",
        "    num_attention_heads=12,\n",
        "    num_hidden_layers=6,\n",
        "    type_vocab_size=1,\n",
        "    pad_token_id=pad_token_id,\n",
        "    bos_token_id=bos_token_id,\n",
        "    eos_token_id=eos_token_id\n",
        ")\n",
        "\n",
        "# Initialize the model\n",
        "model = RobertaForMaskedLM(config)"
      ]
    },
    {
      "cell_type": "code",
      "execution_count": null,
      "metadata": {
        "id": "BxXzhxiIT7wC",
        "scrolled": true,
        "outputId": "330a5da9-7fc7-4d5a-c84f-d738aa0d4ade"
      },
      "outputs": [
        {
          "name": "stderr",
          "output_type": "stream",
          "text": [
            "/storage/modules/packages/anaconda/lib/python3.11/site-packages/transformers/optimization.py:411: FutureWarning: This implementation of AdamW is deprecated and will be removed in a future version. Use the PyTorch implementation torch.optim.AdamW instead, or set `no_deprecation_warning=True` to disable this warning\n",
            "  warnings.warn(\n"
          ]
        },
        {
          "name": "stdout",
          "output_type": "stream",
          "text": [
            "Epoch 1/2, Iteration 300, Training Loss: 9.3140\n",
            "Epoch 1/2, Iteration 600, Training Loss: 8.3323\n",
            "Epoch 1/2, Iteration 900, Training Loss: 7.5372\n",
            "Epoch 1/2, Iteration 1200, Training Loss: 6.8522\n",
            "Epoch 1/2, Iteration 1500, Training Loss: 6.2728\n",
            "Epoch 1/2, Iteration 1800, Training Loss: 5.7801\n",
            "Epoch 1/2, Iteration 2100, Training Loss: 5.3549\n",
            "Epoch 1/2, Iteration 2400, Training Loss: 4.9896\n",
            "Epoch 1/2, Iteration 2700, Training Loss: 4.6708\n",
            "Epoch 1/2, Iteration 3000, Training Loss: 4.3873\n",
            "Epoch 1/2, Iteration 3300, Training Loss: 4.1336\n",
            "Epoch 1/2, Iteration 3600, Training Loss: 3.9074\n",
            "Epoch 1/2, Iteration 3900, Training Loss: 3.7035\n",
            "Epoch 1/2, Iteration 4200, Training Loss: 3.5182\n",
            "Epoch 1/2, Iteration 4500, Training Loss: 3.3497\n",
            "Epoch 1/2, Iteration 4800, Training Loss: 3.1953\n",
            "Epoch 1/2, Iteration 5100, Training Loss: 3.0532\n",
            "Epoch 1/2, Iteration 5400, Training Loss: 2.9230\n",
            "Epoch 1/2, Iteration 5700, Training Loss: 2.8025\n",
            "Epoch 1/2, Iteration 6000, Training Loss: 2.6915\n",
            "Epoch 1/2, Iteration 6300, Training Loss: 2.5882\n",
            "Epoch 1/2, Iteration 6600, Training Loss: 2.4922\n",
            "Epoch 1/2, Iteration 6900, Training Loss: 2.4027\n",
            "Epoch 1/2, Iteration 7200, Training Loss: 2.3189\n",
            "Epoch 1/2, Iteration 7500, Training Loss: 2.2407\n",
            "Epoch 1/2, Iteration 7800, Training Loss: 2.1669\n",
            "Epoch 1/2, Iteration 8100, Training Loss: 2.0979\n",
            "Epoch 1/2, Iteration 8400, Training Loss: 2.0331\n",
            "Epoch 1/2, Iteration 8700, Training Loss: 1.9719\n",
            "Epoch 1/2, Iteration 9000, Training Loss: 1.9140\n",
            "Epoch 1/2, Iteration 9300, Training Loss: 1.8593\n",
            "Epoch 1/2, Iteration 9600, Training Loss: 1.8074\n",
            "Epoch 1/2, Iteration 9900, Training Loss: 1.7583\n",
            "Epoch 1/2, Iteration 10200, Training Loss: 1.7118\n",
            "Epoch 1/2, Iteration 10500, Training Loss: 1.6677\n",
            "Epoch 1/2, Iteration 10800, Training Loss: 1.6256\n",
            "Epoch 1/2, Iteration 11100, Training Loss: 1.5855\n",
            "Epoch 1/2, Iteration 11400, Training Loss: 1.5471\n",
            "Epoch 1/2, Training Loss: 1.5155\n",
            "Epoch 1/2, Validation Loss: 0.0317\n",
            "Epoch 2/2, Iteration 300, Training Loss: 0.0959\n",
            "Epoch 2/2, Iteration 600, Training Loss: 0.0914\n",
            "Epoch 2/2, Iteration 900, Training Loss: 0.0887\n",
            "Epoch 2/2, Iteration 1200, Training Loss: 0.0851\n",
            "Epoch 2/2, Iteration 1500, Training Loss: 0.0824\n",
            "Epoch 2/2, Iteration 1800, Training Loss: 0.0797\n",
            "Epoch 2/2, Iteration 2100, Training Loss: 0.0773\n",
            "Epoch 2/2, Iteration 2400, Training Loss: 0.0752\n",
            "Epoch 2/2, Iteration 2700, Training Loss: 0.0728\n",
            "Epoch 2/2, Iteration 3000, Training Loss: 0.0707\n",
            "Epoch 2/2, Iteration 3300, Training Loss: 0.0688\n",
            "Epoch 2/2, Iteration 3600, Training Loss: 0.0669\n",
            "Epoch 2/2, Iteration 3900, Training Loss: 0.0651\n",
            "Epoch 2/2, Iteration 4200, Training Loss: 0.0633\n",
            "Epoch 2/2, Iteration 4500, Training Loss: 0.0617\n",
            "Epoch 2/2, Iteration 4800, Training Loss: 0.0601\n",
            "Epoch 2/2, Iteration 5100, Training Loss: 0.0586\n",
            "Epoch 2/2, Iteration 5400, Training Loss: 0.0572\n",
            "Epoch 2/2, Iteration 5700, Training Loss: 0.0558\n",
            "Epoch 2/2, Iteration 6000, Training Loss: 0.0545\n",
            "Epoch 2/2, Iteration 6300, Training Loss: 0.0531\n",
            "Epoch 2/2, Iteration 6600, Training Loss: 0.0519\n",
            "Epoch 2/2, Iteration 6900, Training Loss: 0.0508\n",
            "Epoch 2/2, Iteration 7200, Training Loss: 0.0496\n",
            "Epoch 2/2, Iteration 7500, Training Loss: 0.0486\n",
            "Epoch 2/2, Iteration 7800, Training Loss: 0.0475\n",
            "Epoch 2/2, Iteration 8100, Training Loss: 0.0465\n",
            "Epoch 2/2, Iteration 8400, Training Loss: 0.0456\n",
            "Epoch 2/2, Iteration 8700, Training Loss: 0.0446\n",
            "Epoch 2/2, Iteration 9000, Training Loss: 0.0437\n",
            "Epoch 2/2, Iteration 9300, Training Loss: 0.0428\n",
            "Epoch 2/2, Iteration 9600, Training Loss: 0.0420\n",
            "Epoch 2/2, Iteration 9900, Training Loss: 0.0412\n",
            "Epoch 2/2, Iteration 10200, Training Loss: 0.0404\n",
            "Epoch 2/2, Iteration 10500, Training Loss: 0.0396\n",
            "Epoch 2/2, Iteration 10800, Training Loss: 0.0389\n",
            "Epoch 2/2, Iteration 11100, Training Loss: 0.0381\n",
            "Epoch 2/2, Iteration 11400, Training Loss: 0.0374\n",
            "Epoch 2/2, Training Loss: 0.0369\n",
            "Epoch 2/2, Validation Loss: 0.0051\n"
          ]
        }
      ],
      "source": [
        "# Define training parameters\n",
        "num_epochs = 2\n",
        "learning_rate = 1e-5\n",
        "optimizer = AdamW(model.parameters(), lr=learning_rate)\n",
        "train_history=[]\n",
        "val_history=[]\n",
        "\n",
        "# Training loop\n",
        "for epoch in range(num_epochs):\n",
        "    model.train()\n",
        "    total_loss = 0\n",
        "\n",
        "    for i, batch in enumerate(train_dataloader):\n",
        "        inputs = {key: val.to(model.device) for key, val in batch.items()}\n",
        "        outputs = model(**inputs)\n",
        "        loss = outputs.loss\n",
        "\n",
        "        optimizer.zero_grad()\n",
        "\n",
        "        loss.backward()\n",
        "        optimizer.step()\n",
        "\n",
        "        total_loss += loss.item()\n",
        "\n",
        "        if i>0 and i % 300 ==0:\n",
        "            print(f\"Epoch {epoch+1}/{num_epochs}, Iteration {i}, Training Loss: {total_loss/i:.4f}\")\n",
        "\n",
        "    avg_loss = total_loss / len(train_dataloader)\n",
        "    train_history.append(avg_loss)\n",
        "    print(f\"Epoch {epoch+1}/{num_epochs}, Training Loss: {avg_loss:.4f}\")\n",
        "\n",
        "    # Validation\n",
        "    model.eval()\n",
        "    with torch.no_grad():\n",
        "        val_losses = []\n",
        "        for val_batch in validation_dataloader:\n",
        "            val_inputs = {key: val.to(model.device) for key, val in val_batch.items()}\n",
        "            val_outputs = model(**val_inputs)\n",
        "            val_loss = val_outputs.loss\n",
        "            val_losses.append(val_loss.item())\n",
        "\n",
        "        avg_val_loss = sum(val_losses) / len(val_losses)\n",
        "        val_history.append(avg_val_loss)\n",
        "        print(f\"Epoch {epoch+1}/{num_epochs}, Validation Loss: {avg_val_loss:.4f}\")"
      ]
    },
    {
      "cell_type": "code",
      "execution_count": null,
      "metadata": {
        "id": "YW55xDWRUOn6"
      },
      "outputs": [],
      "source": [
        "# Save the model\n",
        "model.save_pretrained(\"models/wpc_masking_model_rep\")"
      ]
    },
    {
      "cell_type": "markdown",
      "metadata": {
        "id": "IA7HA3CLu-5G"
      },
      "source": [
        "# wpc FineTune"
      ]
    },
    {
      "cell_type": "code",
      "execution_count": null,
      "metadata": {
        "id": "6T9RWP_1wT_1"
      },
      "outputs": [],
      "source": [
        "train_tata = pd.read_csv(\"data_exp1/train_tata_met_2.csv\", index_col = False)\n",
        "val_tata = pd.read_csv(\"data_exp1/val_tata_met_2.csv\", index_col = False)\n",
        "test_tata = pd.read_csv('data_exp1/test_tata_met_2.csv', index_col = False)\n",
        "\n",
        "train_non_tata = pd.read_csv('data_exp1/train_non_tata_met_2.csv', index_col = False)\n",
        "val_non_tata = pd.read_csv('data_exp1/val_non_tata_met_2.csv', index_col = False)\n",
        "test_non_tata = pd.read_csv('data_exp1/test_non_tata_met_2.csv', index_col = False)"
      ]
    },
    {
      "cell_type": "code",
      "execution_count": null,
      "metadata": {
        "id": "Wl_1URx6wT_2"
      },
      "outputs": [],
      "source": [
        "train = pd.concat([train_tata, train_non_tata])\n",
        "val = pd.concat([val_tata, val_non_tata])"
      ]
    },
    {
      "cell_type": "code",
      "execution_count": null,
      "metadata": {
        "id": "XfhGFdXRwT_2"
      },
      "outputs": [],
      "source": [
        "wrong_idx_dict=defaultdict(dict)"
      ]
    },
    {
      "cell_type": "code",
      "execution_count": null,
      "metadata": {
        "id": "Ef-bFOxaxrvZ"
      },
      "outputs": [],
      "source": [
        "class DNAClassificationDataset(Dataset):\n",
        "    def __init__(self, sequences, labels, tokenizer, max_length=128):\n",
        "        self.sequences = sequences\n",
        "        self.labels = labels\n",
        "        self.tokenizer = tokenizer\n",
        "        self.max_length = max_length\n",
        "\n",
        "    def __len__(self):\n",
        "        return len(self.sequences)\n",
        "\n",
        "    def __getitem__(self, idx):\n",
        "        sequence = self.sequences[idx]\n",
        "        label = self.labels[idx]\n",
        "        inputs = self.tokenizer(\n",
        "            sequence,\n",
        "            padding='max_length',\n",
        "            truncation=True,\n",
        "            max_length=self.max_length,\n",
        "            return_tensors=\"pt\"\n",
        "        )\n",
        "        inputs = {key: val.squeeze(0) for key, val in inputs.items()}  # Remove batch dimension\n",
        "\n",
        "        # Ensure the label is an integer\n",
        "        inputs['labels'] = torch.tensor(int(label), dtype=torch.long)\n",
        "        return inputs\n",
        "\n"
      ]
    },
    {
      "cell_type": "code",
      "execution_count": null,
      "metadata": {
        "id": "EC_h65HzU3pN"
      },
      "outputs": [],
      "source": [
        "import torch\n",
        "from transformers import AdamW, RobertaForSequenceClassification\n",
        "from torch.utils.data import DataLoader\n",
        "from torch.optim.lr_scheduler import MultiStepLR\n",
        "from sklearn.metrics import accuracy_score, f1_score, roc_auc_score, matthews_corrcoef\n",
        "\n",
        "\n",
        "class ClassificationModelWPC:\n",
        "\n",
        "    def __init__(self, train_df, val_df, test_tata_df, test_non_tata_df, organism='human', b_size=8):\n",
        "        self.organism = organism\n",
        "        self.batch_size = b_size\n",
        "        self.dataframes = {\n",
        "            'train': train_df,\n",
        "            'val': val_df,\n",
        "            'test_tata': test_tata_df,\n",
        "            'test_non_tata': test_non_tata_df\n",
        "        }\n",
        "\n",
        "        self.tokenizer = RobertaTokenizerFast.from_pretrained(\"models/wpc_tokenizer_rep\")\n",
        "        self.masking_model = RobertaForMaskedLM.from_pretrained(\"models/wpc_masking_model_rep\")\n",
        "        self.create_model()\n",
        "\n",
        "        # Create dataloaders and set as attributes\n",
        "        dataloaders = self.create_dataloaders(batch_size=self.batch_size)\n",
        "        self.train_dataloader = dataloaders['train']\n",
        "        self.val_dataloader = dataloaders['val']\n",
        "        self.test_tata_dataloader = dataloaders['test_tata']\n",
        "        self.test_non_tata_dataloader = dataloaders['test_non_tata']\n",
        "\n",
        "    def filter_and_convert(self, df, organism):\n",
        "        filtered_df = df[df['organism'] == organism]\n",
        "        seq_list = filtered_df['seq'].tolist()\n",
        "        label_list = filtered_df['True_label'].tolist()\n",
        "        return seq_list, label_list\n",
        "\n",
        "    def create_dataloaders(self, batch_size=16):\n",
        "        train_seq, train_labels = self.filter_and_convert(self.dataframes['train'], self.organism)\n",
        "        val_seq, val_labels = self.filter_and_convert(self.dataframes['val'], self.organism)\n",
        "        test_tata_seq, test_tata_labels = self.filter_and_convert(self.dataframes['test_tata'], self.organism)\n",
        "        test_non_tata_seq, test_non_tata_labels = self.filter_and_convert(self.dataframes['test_non_tata'], self.organism)\n",
        "\n",
        "        # Create the dataset and dataloader\n",
        "        train_dataset = DNAClassificationDataset(train_seq, train_labels, self.tokenizer)\n",
        "        train_dataloader = DataLoader(train_dataset, batch_size=batch_size, shuffle=True)\n",
        "\n",
        "        val_dataset = DNAClassificationDataset(val_seq, val_labels, self.tokenizer)\n",
        "        val_dataloader = DataLoader(val_dataset, batch_size=batch_size, shuffle=True)\n",
        "\n",
        "        test_tata_dataset = DNAClassificationDataset(test_tata_seq, test_tata_labels, self.tokenizer)\n",
        "        test_tata_dataloader = DataLoader(test_tata_dataset, batch_size=batch_size, shuffle=True)\n",
        "\n",
        "        test_non_tata_dataset = DNAClassificationDataset(test_non_tata_seq, test_non_tata_labels, self.tokenizer)\n",
        "        test_non_tata_dataloader = DataLoader(test_non_tata_dataset, batch_size=batch_size, shuffle=True)\n",
        "\n",
        "        return {\n",
        "            'train': train_dataloader,\n",
        "            'val': val_dataloader,\n",
        "            'test_tata': test_tata_dataloader,\n",
        "            'test_non_tata': test_non_tata_dataloader\n",
        "        }\n",
        "\n",
        "    def create_model(self):\n",
        "        # Define configuration for sequence classification\n",
        "        config = RobertaConfig.from_pretrained(\"models/wpc_masking_model_rep\")\n",
        "        config.num_labels = 2  # binary classification\n",
        "\n",
        "        # Initialize the sequence classification model\n",
        "        self.classification_model = RobertaForSequenceClassification(config)\n",
        "\n",
        "        # Copy the pre-trained weights from the masked language model\n",
        "        self.classification_model.roberta.load_state_dict(self.masking_model.roberta.state_dict())\n",
        "        # return classification_model\n",
        "\n",
        "    def train_model(self, num_epochs=60, base_lr=1e-5, patience=3):\n",
        "\n",
        "        train_dataloader = self.train_dataloader\n",
        "        val_dataloader = self.val_dataloader\n",
        "\n",
        "        optimizer = torch.optim.AdamW(self.classification_model.parameters(), lr=base_lr)\n",
        "        scheduler = MultiStepLR(optimizer, milestones=list(range(4,num_epochs+1,4)), gamma=0.85)\n",
        "\n",
        "        device = torch.device(\"cuda\" if torch.cuda.is_available() else \"cpu\")\n",
        "        self.classification_model.to(device)\n",
        "\n",
        "       # Initialize history dictionaries\n",
        "        train_history = {\n",
        "            'loss': [],\n",
        "            'accuracy': []\n",
        "        }\n",
        "        val_history = {\n",
        "            'loss': [],\n",
        "            'accuracy': [],\n",
        "            'f1': [],\n",
        "            'auc': [],\n",
        "            'mcc': []\n",
        "        }\n",
        "\n",
        "        # Initialize early stopping criteria\n",
        "        best_val_accuracy = 0.0\n",
        "        epochs_without_improvement = 0\n",
        "\n",
        "        for epoch in range(num_epochs):\n",
        "            # Training phase\n",
        "            self.classification_model.train()\n",
        "            total_train_loss = 0\n",
        "            correct_train_predictions = 0\n",
        "            total_train_predictions = 0\n",
        "\n",
        "            for batch in train_dataloader:\n",
        "                input_ids = batch['input_ids'].to(device)\n",
        "                attention_mask = batch['attention_mask'].to(device)\n",
        "                labels = batch['labels'].to(device)\n",
        "\n",
        "                optimizer.zero_grad()\n",
        "                outputs = self.classification_model(input_ids=input_ids, attention_mask=attention_mask, labels=labels)\n",
        "                loss = outputs.loss\n",
        "                logits = outputs.logits\n",
        "\n",
        "                loss.backward()\n",
        "                optimizer.step()\n",
        "                scheduler.step()\n",
        "\n",
        "                # Calculate training accuracy\n",
        "                total_train_loss += loss.item()\n",
        "                preds = torch.argmax(logits, dim=1)\n",
        "                correct_train_predictions += torch.sum(preds == labels).item()\n",
        "                total_train_predictions += labels.size(0)\n",
        "\n",
        "            avg_train_loss = total_train_loss / len(train_dataloader)\n",
        "            train_accuracy = correct_train_predictions / total_train_predictions\n",
        "            train_history['loss'].append(avg_train_loss)\n",
        "            train_history['accuracy'].append(train_accuracy)\n",
        "\n",
        "            # Validation phase\n",
        "            self.classification_model.eval()\n",
        "            total_val_loss = 0\n",
        "            correct_val_predictions = 0\n",
        "            total_val_predictions = 0\n",
        "\n",
        "            all_labels = []\n",
        "            all_preds = []\n",
        "            all_probs = []\n",
        "\n",
        "            with torch.no_grad():\n",
        "                for batch in val_dataloader:\n",
        "                    input_ids = batch['input_ids'].to(device)\n",
        "                    attention_mask = batch['attention_mask'].to(device)\n",
        "                    labels = batch['labels'].to(device)\n",
        "\n",
        "                    outputs = self.classification_model(input_ids=input_ids, attention_mask=attention_mask, labels=labels)\n",
        "                    loss = outputs.loss\n",
        "                    logits = outputs.logits\n",
        "\n",
        "                    # Calculate validation accuracy\n",
        "                    total_val_loss += loss.item()\n",
        "                    preds = torch.argmax(logits, dim=1)\n",
        "                    probs = torch.softmax(logits, dim=1)[:, 1]\n",
        "\n",
        "                    correct_val_predictions += torch.sum(preds == labels).item()\n",
        "                    total_val_predictions += labels.size(0)\n",
        "\n",
        "                    all_labels.extend(labels.cpu().numpy())\n",
        "                    all_preds.extend(preds.cpu().numpy())\n",
        "                    all_probs.extend(probs.cpu().numpy())\n",
        "\n",
        "            avg_val_loss = total_val_loss / len(val_dataloader)\n",
        "            val_accuracy = correct_val_predictions / total_val_predictions\n",
        "            val_f1 = f1_score(all_labels, all_preds)\n",
        "            val_auc = roc_auc_score(all_labels, all_probs)\n",
        "            val_mcc = matthews_corrcoef(all_labels, all_preds)\n",
        "\n",
        "            val_history['loss'].append(avg_val_loss)\n",
        "            val_history['accuracy'].append(val_accuracy)\n",
        "            val_history['f1'].append(val_f1)\n",
        "            val_history['auc'].append(val_auc)\n",
        "            val_history['mcc'].append(val_mcc)\n",
        "\n",
        "            print(f\"Epoch {epoch+1}/{num_epochs}, Train Loss: {avg_train_loss:.4f}, Train Accuracy: {train_accuracy:.4f}, Val Loss: {avg_val_loss:.4f}, Val Accuracy: {val_accuracy:.4f}\")\n",
        "\n",
        "            # Check early stopping criteria\n",
        "            if val_accuracy > best_val_accuracy:\n",
        "                best_val_accuracy = val_accuracy\n",
        "                epochs_without_improvement = 0\n",
        "            else:\n",
        "                epochs_without_improvement += 1\n",
        "                if epochs_without_improvement >= patience:\n",
        "                    print(\"Early stopping triggered\")\n",
        "                    break\n",
        "\n",
        "        # Save the trained classification model\n",
        "        self.classification_model.save_pretrained(f\"models/wpc fine tune models/method2/wpc_cls_{self.organism}_model_b{self.batch_size}\")\n",
        "        with open(f\"models/wpc fine tune models/method2/wpc_cls_{self.organism}_model_b{self.batch_size}_history.pkl\", 'wb') as f:\n",
        "            pickle.dump((train_history, val_history), f)\n",
        "\n",
        "        return train_history, val_history\n",
        "\n",
        "    def test_model(self, wrong_idx_dict, tata_flag):\n",
        "        if tata_flag == 'tata':\n",
        "            test_dataloader = self.test_tata_dataloader\n",
        "        elif tata_flag == 'non_tata':\n",
        "            test_dataloader = self.test_non_tata_dataloader\n",
        "        elif tata_flag == 'combined':\n",
        "            test_dataloader = torch.utils.data.DataLoader(\n",
        "                torch.utils.data.ConcatDataset([self.test_tata_dataloader.dataset, self.test_non_tata_dataloader.dataset]),\n",
        "                batch_size=self.batch_size,\n",
        "                shuffle=True\n",
        "            )\n",
        "\n",
        "        device = torch.device(\"cuda\" if torch.cuda.is_available() else \"cpu\")\n",
        "        self.classification_model.to(device)\n",
        "        self.classification_model.eval()\n",
        "\n",
        "        total_test_loss = 0\n",
        "        correct_test_predictions = 0\n",
        "        total_test_predictions = 0\n",
        "\n",
        "        all_labels = []\n",
        "        all_preds = []\n",
        "        all_probs = []\n",
        "        all_indices = []\n",
        "        incorrect_indices = []\n",
        "\n",
        "        with torch.no_grad():\n",
        "            for batch_idx, batch in enumerate(test_dataloader):\n",
        "                input_ids = batch['input_ids'].to(device)\n",
        "                attention_mask = batch['attention_mask'].to(device)\n",
        "                labels = batch['labels'].to(device)\n",
        "\n",
        "                outputs = self.classification_model(input_ids=input_ids, attention_mask=attention_mask, labels=labels)\n",
        "                loss = outputs.loss\n",
        "                logits = outputs.logits\n",
        "\n",
        "                total_test_loss += loss.item()\n",
        "\n",
        "                preds = torch.argmax(logits, dim=1)\n",
        "                probs = torch.softmax(logits, dim=1)[:, 1]\n",
        "\n",
        "                correct_test_predictions += torch.sum(preds == labels).item()\n",
        "                total_test_predictions += labels.size(0)\n",
        "\n",
        "                batch_indices = list(range(batch_idx * self.batch_size, batch_idx * self.batch_size + labels.size(0)))\n",
        "                all_indices.extend(batch_indices)\n",
        "                all_labels.extend(labels.cpu().numpy())\n",
        "                all_preds.extend(preds.cpu().numpy())\n",
        "                all_probs.extend(probs.cpu().numpy())\n",
        "\n",
        "                incorrect_batch_indices = [i for i, (pred, label) in zip(batch_indices, zip(preds.cpu().numpy(), labels.cpu().numpy())) if pred != label]\n",
        "                incorrect_sequences = [input_ids[i].cpu().numpy().tolist() for i, (pred, label) in zip(range(len(input_ids)), zip(preds.cpu().numpy(), labels.cpu().numpy())) if pred != label]\n",
        "\n",
        "                for idx, seq in zip(incorrect_batch_indices, incorrect_sequences):\n",
        "                    incorrect_indices.append((idx, seq))\n",
        "\n",
        "        avg_test_loss = total_test_loss / len(test_dataloader)\n",
        "        test_accuracy = correct_test_predictions / total_test_predictions\n",
        "        test_f1 = f1_score(all_labels, all_preds)\n",
        "        test_auc = roc_auc_score(all_labels, all_probs)\n",
        "        test_mcc = matthews_corrcoef(all_labels, all_preds)\n",
        "\n",
        "        # Calculate confusion matrix\n",
        "        tn, fp, fn, tp = confusion_matrix(all_labels, all_preds).ravel()\n",
        "        tp_rate = tp / (tp + fn) if (tp + fn) > 0 else 0\n",
        "        fp_rate = fp / (fp + tn) if (fp + tn) > 0 else 0\n",
        "        precision = precision_score(all_labels, all_preds)\n",
        "        recall = recall_score(all_labels, all_preds)\n",
        "\n",
        "        print(tata_flag)\n",
        "        print(f\"Test Loss: {avg_test_loss:.4f}\")\n",
        "        print(f\"Test Accuracy: {test_accuracy:.4f}\")\n",
        "        print(f\"Test F1 Score: {test_f1:.4f}\")\n",
        "        print(f\"Test AUC: {test_auc:.4f}\")\n",
        "        print(f\"Test MCC: {test_mcc:.4f}\")\n",
        "        print(f\"True Positive Rate: {tp_rate:.4f}\")\n",
        "        print(f\"False Positive Rate: {fp_rate:.4f}\")\n",
        "        print(f\"Precision: {precision:.4f}\")\n",
        "        print(f\"Recall: {recall:.4f}\")\n",
        "        print(f\"True Positives (TP): {tp}\")\n",
        "        print(f\"False Positives (FP): {fp}\")\n",
        "        print(f\"True Negatives (TN): {tn}\")\n",
        "        print(f\"False Negatives (FN): {fn}\")\n",
        "\n",
        "        wrong_idx_dict[f'{self.organism}_{tata_flag}'] = incorrect_indices\n",
        "        wrong_idx_dict = {str(key): value for key, value in wrong_idx_dict.items()}\n",
        "\n",
        "        print()\n",
        "\n",
        "        test_metrics = {\n",
        "            'loss': avg_test_loss,\n",
        "            'accuracy': test_accuracy,\n",
        "            'f1': test_f1,\n",
        "            'auc': test_auc,\n",
        "            'mcc': test_mcc,\n",
        "            'tp_rate': tp_rate,\n",
        "            'fp_rate': fp_rate,\n",
        "            'precision': precision,\n",
        "            'recall': recall,\n",
        "            'tp': tp,\n",
        "            'fp': fp,\n",
        "            'tn': tn,\n",
        "            'fn': fn,\n",
        "        }\n",
        "        return test_metrics, wrong_idx_dict\n",
        "\n",
        "\n",
        "    def fine_tune_model(self, num_epochs=15, base_lr=1e-5):\n",
        "        wrong_idx_dict = defaultdict(list)\n",
        "        model_path = f\"models/wpc fine tune models/method2/wpc_cls_{self.organism}_model_b{self.batch_size}\"\n",
        "        history_path = f\"models/wpc fine tune models/method2/wpc_cls_{self.organism}_model_b{self.batch_size}_history.pkl\"\n",
        "\n",
        "        if os.path.exists(model_path):\n",
        "            self.classification_model = RobertaForSequenceClassification.from_pretrained(model_path)\n",
        "            with open(history_path, 'rb') as f:\n",
        "                train_history, val_history = pickle.load(f)\n",
        "        else:\n",
        "            train_history, val_history = self.train_model(num_epochs=num_epochs, base_lr=base_lr)\n",
        "\n",
        "\n",
        "        test_tata_history,wrong_idx_dict = self.test_model(wrong_idx_dict, tata_flag='tata')\n",
        "\n",
        "        test_non_tata_history, wrong_idx_dict = self.test_model(wrong_idx_dict, tata_flag='non_tata')\n",
        "\n",
        "        # Combine both test sets\n",
        "        test_combined_history, wrong_idx_dict = self.test_model(wrong_idx_dict, tata_flag='combined')\n",
        "\n",
        "        # Save the dictionary as a JSON file\n",
        "        with open(f'wrong_idx/wpc/rep/wpc_rep_{self.organism}.json', 'w') as json_file:\n",
        "            json.dump(wrong_idx_dict, json_file, indent=4)\n",
        "\n",
        "        return train_history, val_history, test_tata_history, test_non_tata_history, test_combined_history"
      ]
    },
    {
      "cell_type": "markdown",
      "metadata": {
        "id": "QzgujHHQWTeY"
      },
      "source": [
        "### EXP-WPC"
      ]
    },
    {
      "cell_type": "code",
      "execution_count": null,
      "metadata": {
        "id": "-dBWdNH4WTeZ"
      },
      "outputs": [],
      "source": [
        "b_size=16\n",
        "num_epochs=40\n",
        "base_lr=1e-4\n",
        "results_dict = defaultdict(dict)\n",
        "tata_flag = 'non_tata'"
      ]
    },
    {
      "cell_type": "markdown",
      "metadata": {
        "id": "hekucOyLWTeZ"
      },
      "source": [
        "**celegans**"
      ]
    },
    {
      "cell_type": "code",
      "execution_count": null,
      "metadata": {
        "id": "PkWZejjIwT_4",
        "outputId": "2298f1d6-2f37-4f31-bf5b-234264262484"
      },
      "outputs": [
        {
          "name": "stderr",
          "output_type": "stream",
          "text": [
            "Special tokens have been added in the vocabulary, make sure the associated word embeddings are fine-tuned or trained.\n"
          ]
        },
        {
          "name": "stdout",
          "output_type": "stream",
          "text": [
            "tata\n",
            "Test Loss: 1.9422\n",
            "Test Accuracy: 0.6453\n",
            "Test F1 Score: 0.6453\n",
            "Test AUC: 0.7126\n",
            "Test MCC: 0.2906\n",
            "True Positive Rate: 0.6453\n",
            "False Positive Rate: 0.3547\n",
            "Precision: 0.6453\n",
            "Recall: 0.6453\n",
            "True Positives (TP): 131\n",
            "False Positives (FP): 72\n",
            "True Negatives (TN): 131\n",
            "False Negatives (FN): 72\n",
            "\n",
            "non_tata\n",
            "Test Loss: 1.9324\n",
            "Test Accuracy: 0.6686\n",
            "Test F1 Score: 0.6737\n",
            "Test AUC: 0.7193\n",
            "Test MCC: 0.3373\n",
            "True Positive Rate: 0.6841\n",
            "False Positive Rate: 0.3470\n",
            "Precision: 0.6635\n",
            "Recall: 0.6841\n",
            "True Positives (TP): 836\n",
            "False Positives (FP): 424\n",
            "True Negatives (TN): 798\n",
            "False Negatives (FN): 386\n",
            "\n",
            "combined\n",
            "Test Loss: 1.9391\n",
            "Test Accuracy: 0.6653\n",
            "Test F1 Score: 0.6697\n",
            "Test AUC: 0.7185\n",
            "Test MCC: 0.3306\n",
            "True Positive Rate: 0.6786\n",
            "False Positive Rate: 0.3481\n",
            "Precision: 0.6610\n",
            "Recall: 0.6786\n",
            "True Positives (TP): 967\n",
            "False Positives (FP): 496\n",
            "True Negatives (TN): 929\n",
            "False Negatives (FN): 458\n",
            "\n"
          ]
        }
      ],
      "source": [
        "organism = 'celegans'\n",
        "tata_flag = 'non_tata'\n",
        "\n",
        "cls_model = ClassificationModelWPC(train, val, test_tata, test_non_tata, organism=organism, b_size=b_size)\n",
        "train_history, val_history, test_tata_history, test_non_tata_history, test_all_data_history = cls_model.fine_tune_model(num_epochs=num_epochs, base_lr=base_lr)\n",
        "results_dict[tata_flag][f'{organism}_b{b_size}'] = [train_history, val_history, test_tata_history, test_non_tata_history, test_all_data_history]"
      ]
    },
    {
      "cell_type": "markdown",
      "metadata": {
        "id": "ucq5FKkDWTec"
      },
      "source": [
        "**gallus**"
      ]
    },
    {
      "cell_type": "code",
      "execution_count": null,
      "metadata": {
        "id": "exU8njpQWTed",
        "outputId": "1fc29d50-480f-45c7-edf7-89cb10e89065",
        "scrolled": true
      },
      "outputs": [
        {
          "name": "stderr",
          "output_type": "stream",
          "text": [
            "Special tokens have been added in the vocabulary, make sure the associated word embeddings are fine-tuned or trained.\n"
          ]
        },
        {
          "name": "stdout",
          "output_type": "stream",
          "text": [
            "Epoch 1/40, Train Loss: 0.7083, Train Accuracy: 0.5056, Val Loss: 0.6954, Val Accuracy: 0.5000\n",
            "Epoch 2/40, Train Loss: 0.6848, Train Accuracy: 0.5613, Val Loss: 0.7210, Val Accuracy: 0.5148\n",
            "Epoch 3/40, Train Loss: 0.6036, Train Accuracy: 0.6626, Val Loss: 0.8434, Val Accuracy: 0.5169\n",
            "Epoch 4/40, Train Loss: 0.4760, Train Accuracy: 0.7405, Val Loss: 1.0491, Val Accuracy: 0.5470\n",
            "Epoch 5/40, Train Loss: 0.3108, Train Accuracy: 0.8528, Val Loss: 1.1726, Val Accuracy: 0.6159\n",
            "Epoch 6/40, Train Loss: 0.1051, Train Accuracy: 0.9601, Val Loss: 1.2656, Val Accuracy: 0.6573\n",
            "Epoch 7/40, Train Loss: 0.0323, Train Accuracy: 0.9875, Val Loss: 1.6348, Val Accuracy: 0.6660\n",
            "Epoch 8/40, Train Loss: 0.0094, Train Accuracy: 0.9974, Val Loss: 1.9467, Val Accuracy: 0.6588\n",
            "Epoch 9/40, Train Loss: 0.0148, Train Accuracy: 0.9958, Val Loss: 1.8968, Val Accuracy: 0.6660\n",
            "Epoch 10/40, Train Loss: 0.0119, Train Accuracy: 0.9968, Val Loss: 1.9441, Val Accuracy: 0.6701\n",
            "Epoch 11/40, Train Loss: 0.0098, Train Accuracy: 0.9973, Val Loss: 2.0206, Val Accuracy: 0.6670\n",
            "Epoch 12/40, Train Loss: 0.0048, Train Accuracy: 0.9986, Val Loss: 2.4652, Val Accuracy: 0.6496\n",
            "Epoch 13/40, Train Loss: 0.0030, Train Accuracy: 0.9991, Val Loss: 2.4616, Val Accuracy: 0.6685\n",
            "Early stopping triggered\n",
            "tata\n",
            "Test Loss: 2.7837\n",
            "Test Accuracy: 0.6259\n",
            "Test F1 Score: 0.6553\n",
            "Test AUC: 0.6689\n",
            "Test MCC: 0.2556\n",
            "True Positive Rate: 0.7111\n",
            "False Positive Rate: 0.4593\n",
            "Precision: 0.6076\n",
            "Recall: 0.7111\n",
            "True Positives (TP): 96\n",
            "False Positives (FP): 62\n",
            "True Negatives (TN): 73\n",
            "False Negatives (FN): 39\n",
            "\n",
            "non_tata\n",
            "Test Loss: 2.2291\n",
            "Test Accuracy: 0.6957\n",
            "Test F1 Score: 0.7033\n",
            "Test AUC: 0.7586\n",
            "Test MCC: 0.3919\n",
            "True Positive Rate: 0.7214\n",
            "False Positive Rate: 0.3300\n",
            "Precision: 0.6861\n",
            "Recall: 0.7214\n",
            "True Positives (TP): 787\n",
            "False Positives (FP): 360\n",
            "True Negatives (TN): 731\n",
            "False Negatives (FN): 304\n",
            "\n",
            "combined\n",
            "Test Loss: 2.3038\n",
            "Test Accuracy: 0.6880\n",
            "Test F1 Score: 0.6977\n",
            "Test AUC: 0.7488\n",
            "Test MCC: 0.3768\n",
            "True Positive Rate: 0.7202\n",
            "False Positive Rate: 0.3442\n",
            "Precision: 0.6766\n",
            "Recall: 0.7202\n",
            "True Positives (TP): 883\n",
            "False Positives (FP): 422\n",
            "True Negatives (TN): 804\n",
            "False Negatives (FN): 343\n",
            "\n"
          ]
        }
      ],
      "source": [
        "organism = 'gallus'\n",
        "tata_flag='non_tata'\n",
        "\n",
        "cls_model = ClassificationModelWPC(train, val, test_tata, test_non_tata, organism=organism, b_size=b_size)\n",
        "train_history, val_history, test_tata_history, test_non_tata_history, test_all_data_history = cls_model.fine_tune_model(num_epochs=num_epochs, base_lr=base_lr)\n",
        "results_dict[tata_flag][f'{organism}_b{b_size}'] = [train_history, val_history, test_tata_history, test_non_tata_history, test_all_data_history]"
      ]
    },
    {
      "cell_type": "markdown",
      "metadata": {
        "id": "6nRfoo5hWTee"
      },
      "source": [
        "**human**"
      ]
    },
    {
      "cell_type": "code",
      "execution_count": null,
      "metadata": {
        "id": "UGaL4FOwWTef",
        "outputId": "5f363f44-391e-4917-eecd-5d74edb67292"
      },
      "outputs": [
        {
          "name": "stderr",
          "output_type": "stream",
          "text": [
            "Special tokens have been added in the vocabulary, make sure the associated word embeddings are fine-tuned or trained.\n"
          ]
        },
        {
          "name": "stdout",
          "output_type": "stream",
          "text": [
            "Epoch 1/40, Train Loss: 0.6987, Train Accuracy: 0.5214, Val Loss: 0.6710, Val Accuracy: 0.5806\n",
            "Epoch 2/40, Train Loss: 0.4613, Train Accuracy: 0.7791, Val Loss: 0.4380, Val Accuracy: 0.8108\n",
            "Epoch 3/40, Train Loss: 0.2229, Train Accuracy: 0.9117, Val Loss: 0.4875, Val Accuracy: 0.7937\n",
            "Epoch 4/40, Train Loss: 0.1188, Train Accuracy: 0.9575, Val Loss: 0.5729, Val Accuracy: 0.8107\n",
            "Epoch 5/40, Train Loss: 0.0640, Train Accuracy: 0.9779, Val Loss: 0.6729, Val Accuracy: 0.8034\n",
            "Early stopping triggered\n",
            "tata\n",
            "Test Loss: 0.6344\n",
            "Test Accuracy: 0.8086\n",
            "Test F1 Score: 0.7911\n",
            "Test AUC: 0.9024\n",
            "Test MCC: 0.6261\n",
            "True Positive Rate: 0.7248\n",
            "False Positive Rate: 0.1075\n",
            "Precision: 0.8708\n",
            "Recall: 0.7248\n",
            "True Positives (TP): 445\n",
            "False Positives (FP): 66\n",
            "True Negatives (TN): 548\n",
            "False Negatives (FN): 169\n",
            "\n",
            "non_tata\n",
            "Test Loss: 0.6858\n",
            "Test Accuracy: 0.7972\n",
            "Test F1 Score: 0.7707\n",
            "Test AUC: 0.8999\n",
            "Test MCC: 0.6107\n",
            "True Positive Rate: 0.6819\n",
            "False Positive Rate: 0.0876\n",
            "Precision: 0.8861\n",
            "Recall: 0.6819\n",
            "True Positives (TP): 3619\n",
            "False Positives (FP): 465\n",
            "True Negatives (TN): 4842\n",
            "False Negatives (FN): 1688\n",
            "\n",
            "combined\n",
            "Test Loss: 0.6833\n",
            "Test Accuracy: 0.7983\n",
            "Test F1 Score: 0.7729\n",
            "Test AUC: 0.9001\n",
            "Test MCC: 0.6122\n",
            "True Positive Rate: 0.6864\n",
            "False Positive Rate: 0.0897\n",
            "Precision: 0.8844\n",
            "Recall: 0.6864\n",
            "True Positives (TP): 4064\n",
            "False Positives (FP): 531\n",
            "True Negatives (TN): 5390\n",
            "False Negatives (FN): 1857\n",
            "\n"
          ]
        }
      ],
      "source": [
        "organism = 'human'\n",
        "cls_model = ClassificationModelWPC(train, val, test_tata, test_non_tata, organism=organism, b_size=b_size)\n",
        "train_history, val_history, test_tata_history, test_non_tata_history, test_all_data_history = cls_model.fine_tune_model(num_epochs=num_epochs, base_lr=base_lr)\n",
        "results_dict[tata_flag][f'{organism}_b{b_size}'] = [train_history, val_history, test_tata_history, test_non_tata_history, test_all_data_history]"
      ]
    },
    {
      "cell_type": "markdown",
      "metadata": {
        "id": "DtJlVOpcWTeg"
      },
      "source": [
        "**melanogaster**"
      ]
    },
    {
      "cell_type": "code",
      "execution_count": null,
      "metadata": {
        "id": "EmYaQdJ6WTeh",
        "outputId": "e9ef716f-209d-4d36-9c7b-23e4205876c8"
      },
      "outputs": [
        {
          "name": "stderr",
          "output_type": "stream",
          "text": [
            "Special tokens have been added in the vocabulary, make sure the associated word embeddings are fine-tuned or trained.\n"
          ]
        },
        {
          "name": "stdout",
          "output_type": "stream",
          "text": [
            "Epoch 1/40, Train Loss: 0.7043, Train Accuracy: 0.5041, Val Loss: 0.7026, Val Accuracy: 0.5035\n",
            "Epoch 2/40, Train Loss: 0.6914, Train Accuracy: 0.5435, Val Loss: 0.6996, Val Accuracy: 0.5201\n",
            "Epoch 3/40, Train Loss: 0.6148, Train Accuracy: 0.6577, Val Loss: 0.6979, Val Accuracy: 0.6223\n",
            "Epoch 4/40, Train Loss: 0.3736, Train Accuracy: 0.8329, Val Loss: 0.6327, Val Accuracy: 0.7034\n",
            "Epoch 5/40, Train Loss: 0.1762, Train Accuracy: 0.9307, Val Loss: 0.8731, Val Accuracy: 0.6997\n",
            "Epoch 6/40, Train Loss: 0.0762, Train Accuracy: 0.9728, Val Loss: 1.2206, Val Accuracy: 0.6916\n",
            "Epoch 7/40, Train Loss: 0.0426, Train Accuracy: 0.9856, Val Loss: 1.4343, Val Accuracy: 0.6951\n",
            "Early stopping triggered\n",
            "tata\n",
            "Test Loss: 1.5889\n",
            "Test Accuracy: 0.6740\n",
            "Test F1 Score: 0.6246\n",
            "Test AUC: 0.7316\n",
            "Test MCC: 0.3608\n",
            "True Positive Rate: 0.5423\n",
            "False Positive Rate: 0.1942\n",
            "Precision: 0.7363\n",
            "Recall: 0.5423\n",
            "True Positives (TP): 282\n",
            "False Positives (FP): 101\n",
            "True Negatives (TN): 419\n",
            "False Negatives (FN): 238\n",
            "\n",
            "non_tata\n",
            "Test Loss: 1.3932\n",
            "Test Accuracy: 0.7033\n",
            "Test F1 Score: 0.6714\n",
            "Test AUC: 0.7659\n",
            "Test MCC: 0.4145\n",
            "True Positive Rate: 0.6063\n",
            "False Positive Rate: 0.1997\n",
            "Precision: 0.7523\n",
            "Recall: 0.6063\n",
            "True Positives (TP): 1743\n",
            "False Positives (FP): 574\n",
            "True Negatives (TN): 2301\n",
            "False Negatives (FN): 1132\n",
            "\n",
            "combined\n",
            "Test Loss: 1.4231\n",
            "Test Accuracy: 0.6988\n",
            "Test F1 Score: 0.6645\n",
            "Test AUC: 0.7607\n",
            "Test MCC: 0.4062\n",
            "True Positive Rate: 0.5965\n",
            "False Positive Rate: 0.1988\n",
            "Precision: 0.7500\n",
            "Recall: 0.5965\n",
            "True Positives (TP): 2025\n",
            "False Positives (FP): 675\n",
            "True Negatives (TN): 2720\n",
            "False Negatives (FN): 1370\n",
            "\n"
          ]
        }
      ],
      "source": [
        "organism = 'melanogaster'\n",
        "cls_model = ClassificationModelWPC(train, val, test_tata, test_non_tata, organism=organism, b_size=b_size)\n",
        "train_history, val_history, test_tata_history, test_non_tata_history, test_all_data_history = cls_model.fine_tune_model(num_epochs=num_epochs, base_lr=base_lr)\n",
        "results_dict[tata_flag][f'{organism}_b{b_size}'] = [train_history, val_history, test_tata_history, test_non_tata_history, test_all_data_history]"
      ]
    },
    {
      "cell_type": "markdown",
      "metadata": {
        "id": "y1BrJQhgWTeh"
      },
      "source": [
        "**mulatta**"
      ]
    },
    {
      "cell_type": "code",
      "execution_count": null,
      "metadata": {
        "id": "t7Ie2M-zWTei",
        "outputId": "aa3c451b-8b55-4963-e51b-3e6cc72de9eb"
      },
      "outputs": [
        {
          "name": "stderr",
          "output_type": "stream",
          "text": [
            "Special tokens have been added in the vocabulary, make sure the associated word embeddings are fine-tuned or trained.\n"
          ]
        },
        {
          "name": "stdout",
          "output_type": "stream",
          "text": [
            "Epoch 1/40, Train Loss: 0.7103, Train Accuracy: 0.5188, Val Loss: 0.6877, Val Accuracy: 0.5428\n",
            "Epoch 2/40, Train Loss: 0.6712, Train Accuracy: 0.5888, Val Loss: 0.7149, Val Accuracy: 0.5432\n",
            "Epoch 3/40, Train Loss: 0.5906, Train Accuracy: 0.6772, Val Loss: 0.7539, Val Accuracy: 0.5499\n",
            "Epoch 4/40, Train Loss: 0.4522, Train Accuracy: 0.7697, Val Loss: 0.7330, Val Accuracy: 0.6470\n",
            "Epoch 5/40, Train Loss: 0.2081, Train Accuracy: 0.9111, Val Loss: 0.9126, Val Accuracy: 0.6880\n",
            "Epoch 6/40, Train Loss: 0.0683, Train Accuracy: 0.9765, Val Loss: 1.0937, Val Accuracy: 0.6813\n",
            "Epoch 7/40, Train Loss: 0.0229, Train Accuracy: 0.9928, Val Loss: 1.4862, Val Accuracy: 0.6965\n",
            "Epoch 8/40, Train Loss: 0.0177, Train Accuracy: 0.9940, Val Loss: 1.4676, Val Accuracy: 0.6695\n",
            "Epoch 9/40, Train Loss: 0.0140, Train Accuracy: 0.9957, Val Loss: 1.6597, Val Accuracy: 0.6928\n",
            "Epoch 10/40, Train Loss: 0.0117, Train Accuracy: 0.9958, Val Loss: 1.7476, Val Accuracy: 0.7001\n",
            "Epoch 11/40, Train Loss: 0.0117, Train Accuracy: 0.9958, Val Loss: 2.0545, Val Accuracy: 0.6758\n",
            "Epoch 12/40, Train Loss: 0.0114, Train Accuracy: 0.9962, Val Loss: 1.6360, Val Accuracy: 0.7009\n",
            "Epoch 13/40, Train Loss: 0.0073, Train Accuracy: 0.9978, Val Loss: 1.9877, Val Accuracy: 0.6795\n",
            "Epoch 14/40, Train Loss: 0.0029, Train Accuracy: 0.9994, Val Loss: 2.2092, Val Accuracy: 0.7053\n",
            "Epoch 15/40, Train Loss: 0.0061, Train Accuracy: 0.9988, Val Loss: 2.3123, Val Accuracy: 0.6577\n",
            "Epoch 16/40, Train Loss: 0.0077, Train Accuracy: 0.9981, Val Loss: 2.2089, Val Accuracy: 0.6898\n",
            "Epoch 17/40, Train Loss: 0.0066, Train Accuracy: 0.9979, Val Loss: 1.8234, Val Accuracy: 0.7064\n",
            "Epoch 18/40, Train Loss: 0.0096, Train Accuracy: 0.9974, Val Loss: 1.8558, Val Accuracy: 0.7020\n",
            "Epoch 19/40, Train Loss: 0.0048, Train Accuracy: 0.9985, Val Loss: 1.5618, Val Accuracy: 0.7109\n",
            "Epoch 20/40, Train Loss: 0.0033, Train Accuracy: 0.9994, Val Loss: 2.1558, Val Accuracy: 0.7120\n",
            "Epoch 21/40, Train Loss: 0.0063, Train Accuracy: 0.9985, Val Loss: 1.9567, Val Accuracy: 0.7049\n",
            "Epoch 22/40, Train Loss: 0.0034, Train Accuracy: 0.9991, Val Loss: 2.1438, Val Accuracy: 0.7134\n",
            "Epoch 23/40, Train Loss: 0.0052, Train Accuracy: 0.9985, Val Loss: 2.0967, Val Accuracy: 0.7068\n",
            "Epoch 24/40, Train Loss: 0.0055, Train Accuracy: 0.9984, Val Loss: 2.3150, Val Accuracy: 0.7175\n",
            "Epoch 25/40, Train Loss: 0.0043, Train Accuracy: 0.9989, Val Loss: 1.9403, Val Accuracy: 0.7086\n",
            "Epoch 26/40, Train Loss: 0.0002, Train Accuracy: 1.0000, Val Loss: 2.3494, Val Accuracy: 0.7057\n",
            "Epoch 27/40, Train Loss: 0.0017, Train Accuracy: 0.9995, Val Loss: 2.3556, Val Accuracy: 0.7068\n",
            "Early stopping triggered\n",
            "tata\n",
            "Test Loss: 2.9088\n",
            "Test Accuracy: 0.7059\n",
            "Test F1 Score: 0.7500\n",
            "Test AUC: 0.8287\n",
            "Test MCC: 0.4401\n",
            "True Positive Rate: 0.8824\n",
            "False Positive Rate: 0.4706\n",
            "Precision: 0.6522\n",
            "Recall: 0.8824\n",
            "True Positives (TP): 15\n",
            "False Positives (FP): 8\n",
            "True Negatives (TN): 9\n",
            "False Negatives (FN): 2\n",
            "\n",
            "non_tata\n",
            "Test Loss: 2.3035\n",
            "Test Accuracy: 0.7193\n",
            "Test F1 Score: 0.7281\n",
            "Test AUC: 0.7804\n",
            "Test MCC: 0.4396\n",
            "True Positive Rate: 0.7515\n",
            "False Positive Rate: 0.3128\n",
            "Precision: 0.7061\n",
            "Recall: 0.7515\n",
            "True Positives (TP): 1158\n",
            "False Positives (FP): 482\n",
            "True Negatives (TN): 1059\n",
            "False Negatives (FN): 383\n",
            "\n",
            "combined\n",
            "Test Loss: 2.3074\n",
            "Test Accuracy: 0.7192\n",
            "Test F1 Score: 0.7283\n",
            "Test AUC: 0.7805\n",
            "Test MCC: 0.4394\n",
            "True Positive Rate: 0.7529\n",
            "False Positive Rate: 0.3145\n",
            "Precision: 0.7054\n",
            "Recall: 0.7529\n",
            "True Positives (TP): 1173\n",
            "False Positives (FP): 490\n",
            "True Negatives (TN): 1068\n",
            "False Negatives (FN): 385\n",
            "\n"
          ]
        }
      ],
      "source": [
        "organism = 'mulatta'\n",
        "cls_model = ClassificationModelWPC(train, val, test_tata, test_non_tata, organism=organism, b_size=b_size)\n",
        "train_history, val_history, test_tata_history, test_non_tata_history, test_all_data_history = cls_model.fine_tune_model(num_epochs=num_epochs, base_lr=base_lr)\n",
        "results_dict[tata_flag][f'{organism}_b{b_size}'] = [train_history, val_history, test_tata_history, test_non_tata_history, test_all_data_history]"
      ]
    },
    {
      "cell_type": "markdown",
      "metadata": {
        "id": "AYWcuYPjWTej"
      },
      "source": [
        "**musculus**"
      ]
    },
    {
      "cell_type": "code",
      "execution_count": null,
      "metadata": {
        "id": "W07-mtWwWTej",
        "outputId": "6578038c-277a-4abb-a592-ccd63ef8c60e"
      },
      "outputs": [
        {
          "name": "stderr",
          "output_type": "stream",
          "text": [
            "Special tokens have been added in the vocabulary, make sure the associated word embeddings are fine-tuned or trained.\n"
          ]
        },
        {
          "name": "stdout",
          "output_type": "stream",
          "text": [
            "Epoch 1/40, Train Loss: 0.6891, Train Accuracy: 0.5424, Val Loss: 0.5280, Val Accuracy: 0.7590\n",
            "Epoch 2/40, Train Loss: 0.3958, Train Accuracy: 0.8205, Val Loss: 0.2290, Val Accuracy: 0.9096\n",
            "Epoch 3/40, Train Loss: 0.1994, Train Accuracy: 0.9214, Val Loss: 0.1428, Val Accuracy: 0.9487\n",
            "Epoch 4/40, Train Loss: 0.1027, Train Accuracy: 0.9627, Val Loss: 0.1036, Val Accuracy: 0.9740\n",
            "Epoch 5/40, Train Loss: 0.0564, Train Accuracy: 0.9804, Val Loss: 0.0928, Val Accuracy: 0.9767\n",
            "Epoch 6/40, Train Loss: 0.0356, Train Accuracy: 0.9885, Val Loss: 0.1113, Val Accuracy: 0.9750\n",
            "Epoch 7/40, Train Loss: 0.0285, Train Accuracy: 0.9912, Val Loss: 0.1253, Val Accuracy: 0.9777\n",
            "Epoch 8/40, Train Loss: 0.0230, Train Accuracy: 0.9924, Val Loss: 0.1016, Val Accuracy: 0.9757\n",
            "Epoch 9/40, Train Loss: 0.0180, Train Accuracy: 0.9941, Val Loss: 0.1276, Val Accuracy: 0.9773\n",
            "Epoch 10/40, Train Loss: 0.0143, Train Accuracy: 0.9958, Val Loss: 0.1219, Val Accuracy: 0.9770\n",
            "Early stopping triggered\n",
            "tata\n",
            "Test Loss: 0.8006\n",
            "Test Accuracy: 0.8353\n",
            "Test F1 Score: 0.8376\n",
            "Test AUC: 0.9036\n",
            "Test MCC: 0.6709\n",
            "True Positive Rate: 0.8489\n",
            "False Positive Rate: 0.1782\n",
            "Precision: 0.8265\n",
            "Recall: 0.8489\n",
            "True Positives (TP): 562\n",
            "False Positives (FP): 118\n",
            "True Negatives (TN): 544\n",
            "False Negatives (FN): 100\n",
            "\n",
            "non_tata\n",
            "Test Loss: 0.9308\n",
            "Test Accuracy: 0.8192\n",
            "Test F1 Score: 0.8170\n",
            "Test AUC: 0.8912\n",
            "Test MCC: 0.6387\n",
            "True Positive Rate: 0.8072\n",
            "False Positive Rate: 0.1687\n",
            "Precision: 0.8271\n",
            "Recall: 0.8072\n",
            "True Positives (TP): 3521\n",
            "False Positives (FP): 736\n",
            "True Negatives (TN): 3626\n",
            "False Negatives (FN): 841\n",
            "\n",
            "combined\n",
            "Test Loss: 0.9146\n",
            "Test Accuracy: 0.8214\n",
            "Test F1 Score: 0.8198\n",
            "Test AUC: 0.8927\n",
            "Test MCC: 0.6428\n",
            "True Positive Rate: 0.8127\n",
            "False Positive Rate: 0.1700\n",
            "Precision: 0.8270\n",
            "Recall: 0.8127\n",
            "True Positives (TP): 4083\n",
            "False Positives (FP): 854\n",
            "True Negatives (TN): 4170\n",
            "False Negatives (FN): 941\n",
            "\n"
          ]
        }
      ],
      "source": [
        "organism = 'musculus'\n",
        "\n",
        "cls_model = ClassificationModelWPC(train, val, test_tata, test_non_tata, organism=organism, b_size=b_size)\n",
        "train_history, val_history, test_tata_history, test_non_tata_history, test_all_data_history = cls_model.fine_tune_model(num_epochs=num_epochs, base_lr=base_lr)\n",
        "results_dict[tata_flag][f'{organism}_b{b_size}'] = [train_history, val_history, test_tata_history, test_non_tata_history, test_all_data_history]"
      ]
    },
    {
      "cell_type": "markdown",
      "metadata": {
        "id": "NE7vrVZHWTek"
      },
      "source": [
        "**norvegicus**"
      ]
    },
    {
      "cell_type": "code",
      "execution_count": null,
      "metadata": {
        "id": "GM1igSqZWTek",
        "outputId": "68bd29f5-16a6-424a-8b78-71488400f714"
      },
      "outputs": [
        {
          "name": "stderr",
          "output_type": "stream",
          "text": [
            "Special tokens have been added in the vocabulary, make sure the associated word embeddings are fine-tuned or trained.\n"
          ]
        },
        {
          "name": "stdout",
          "output_type": "stream",
          "text": [
            "Epoch 1/40, Train Loss: 0.7034, Train Accuracy: 0.5144, Val Loss: 0.6892, Val Accuracy: 0.5200\n",
            "Epoch 2/40, Train Loss: 0.6693, Train Accuracy: 0.5923, Val Loss: 0.7061, Val Accuracy: 0.5558\n",
            "Epoch 3/40, Train Loss: 0.4914, Train Accuracy: 0.7602, Val Loss: 0.5772, Val Accuracy: 0.7296\n",
            "Epoch 4/40, Train Loss: 0.1901, Train Accuracy: 0.9281, Val Loss: 0.6351, Val Accuracy: 0.7513\n",
            "Epoch 5/40, Train Loss: 0.0669, Train Accuracy: 0.9765, Val Loss: 0.8655, Val Accuracy: 0.7413\n",
            "Epoch 6/40, Train Loss: 0.0267, Train Accuracy: 0.9910, Val Loss: 1.0003, Val Accuracy: 0.7482\n",
            "Epoch 7/40, Train Loss: 0.0181, Train Accuracy: 0.9945, Val Loss: 1.3697, Val Accuracy: 0.7343\n",
            "Early stopping triggered\n",
            "tata\n",
            "Test Loss: 1.1981\n",
            "Test Accuracy: 0.7638\n",
            "Test F1 Score: 0.7742\n",
            "Test AUC: 0.8487\n",
            "Test MCC: 0.5299\n",
            "True Positive Rate: 0.8098\n",
            "False Positive Rate: 0.2822\n",
            "Precision: 0.7416\n",
            "Recall: 0.8098\n",
            "True Positives (TP): 132\n",
            "False Positives (FP): 46\n",
            "True Negatives (TN): 117\n",
            "False Negatives (FN): 31\n",
            "\n",
            "non_tata\n",
            "Test Loss: 1.3305\n",
            "Test Accuracy: 0.7448\n",
            "Test F1 Score: 0.7541\n",
            "Test AUC: 0.8179\n",
            "Test MCC: 0.4911\n",
            "True Positive Rate: 0.7825\n",
            "False Positive Rate: 0.2928\n",
            "Precision: 0.7277\n",
            "Recall: 0.7825\n",
            "True Positives (TP): 1705\n",
            "False Positives (FP): 638\n",
            "True Negatives (TN): 1541\n",
            "False Negatives (FN): 474\n",
            "\n",
            "combined\n",
            "Test Loss: 1.3179\n",
            "Test Accuracy: 0.7462\n",
            "Test F1 Score: 0.7555\n",
            "Test AUC: 0.8200\n",
            "Test MCC: 0.4938\n",
            "True Positive Rate: 0.7844\n",
            "False Positive Rate: 0.2921\n",
            "Precision: 0.7287\n",
            "Recall: 0.7844\n",
            "True Positives (TP): 1837\n",
            "False Positives (FP): 684\n",
            "True Negatives (TN): 1658\n",
            "False Negatives (FN): 505\n",
            "\n"
          ]
        }
      ],
      "source": [
        "organism = 'norvegicus'\n",
        "\n",
        "cls_model = ClassificationModelWPC(train, val, test_tata, test_non_tata, organism=organism, b_size=b_size)\n",
        "train_history, val_history, test_tata_history, test_non_tata_history, test_all_data_history = cls_model.fine_tune_model(num_epochs=num_epochs, base_lr=base_lr)\n",
        "results_dict[tata_flag][f'{organism}_b{b_size}'] = [train_history, val_history, test_tata_history, test_non_tata_history, test_all_data_history]"
      ]
    },
    {
      "cell_type": "markdown",
      "metadata": {
        "id": "ciVDHhLYWTel"
      },
      "source": [
        "**rerio**"
      ]
    },
    {
      "cell_type": "code",
      "execution_count": null,
      "metadata": {
        "id": "hcqTuVuJWTel",
        "outputId": "bc1c3026-73fb-4d59-b7c5-c8b788385144"
      },
      "outputs": [
        {
          "name": "stderr",
          "output_type": "stream",
          "text": [
            "Special tokens have been added in the vocabulary, make sure the associated word embeddings are fine-tuned or trained.\n"
          ]
        },
        {
          "name": "stdout",
          "output_type": "stream",
          "text": [
            "Epoch 1/40, Train Loss: 0.7062, Train Accuracy: 0.5024, Val Loss: 0.7086, Val Accuracy: 0.5000\n",
            "Epoch 2/40, Train Loss: 0.6796, Train Accuracy: 0.5752, Val Loss: 0.7062, Val Accuracy: 0.5303\n",
            "Epoch 3/40, Train Loss: 0.5917, Train Accuracy: 0.6742, Val Loss: 0.8335, Val Accuracy: 0.5548\n",
            "Epoch 4/40, Train Loss: 0.4013, Train Accuracy: 0.8107, Val Loss: 0.7739, Val Accuracy: 0.6577\n",
            "Epoch 5/40, Train Loss: 0.1768, Train Accuracy: 0.9319, Val Loss: 0.7686, Val Accuracy: 0.7041\n",
            "Epoch 6/40, Train Loss: 0.0623, Train Accuracy: 0.9778, Val Loss: 1.2634, Val Accuracy: 0.7038\n",
            "Epoch 7/40, Train Loss: 0.0308, Train Accuracy: 0.9901, Val Loss: 1.4470, Val Accuracy: 0.7181\n",
            "Epoch 8/40, Train Loss: 0.0232, Train Accuracy: 0.9924, Val Loss: 1.5233, Val Accuracy: 0.7044\n",
            "Epoch 9/40, Train Loss: 0.0159, Train Accuracy: 0.9945, Val Loss: 1.6199, Val Accuracy: 0.7073\n",
            "Epoch 10/40, Train Loss: 0.0141, Train Accuracy: 0.9956, Val Loss: 1.3895, Val Accuracy: 0.7047\n",
            "Early stopping triggered\n",
            "tata\n",
            "Test Loss: 1.3527\n",
            "Test Accuracy: 0.7155\n",
            "Test F1 Score: 0.7131\n",
            "Test AUC: 0.7712\n",
            "Test MCC: 0.4310\n",
            "True Positive Rate: 0.7073\n",
            "False Positive Rate: 0.2763\n",
            "Precision: 0.7190\n",
            "Recall: 0.7073\n",
            "True Positives (TP): 302\n",
            "False Positives (FP): 118\n",
            "True Negatives (TN): 309\n",
            "False Negatives (FN): 125\n",
            "\n",
            "non_tata\n",
            "Test Loss: 1.4351\n",
            "Test Accuracy: 0.6994\n",
            "Test F1 Score: 0.6919\n",
            "Test AUC: 0.7538\n",
            "Test MCC: 0.3993\n",
            "True Positive Rate: 0.6750\n",
            "False Positive Rate: 0.2762\n",
            "Precision: 0.7097\n",
            "Recall: 0.6750\n",
            "True Positives (TP): 1161\n",
            "False Positives (FP): 475\n",
            "True Negatives (TN): 1245\n",
            "False Negatives (FN): 559\n",
            "\n",
            "combined\n",
            "Test Loss: 1.4187\n",
            "Test Accuracy: 0.7026\n",
            "Test F1 Score: 0.6962\n",
            "Test AUC: 0.7574\n",
            "Test MCC: 0.4056\n",
            "True Positive Rate: 0.6814\n",
            "False Positive Rate: 0.2762\n",
            "Precision: 0.7116\n",
            "Recall: 0.6814\n",
            "True Positives (TP): 1463\n",
            "False Positives (FP): 593\n",
            "True Negatives (TN): 1554\n",
            "False Negatives (FN): 684\n",
            "\n"
          ]
        }
      ],
      "source": [
        "organism = 'rerio'\n",
        "\n",
        "cls_model = ClassificationModelWPC(train, val, test_tata, test_non_tata, organism=organism, b_size=b_size)\n",
        "train_history, val_history, test_tata_history, test_non_tata_history, test_all_data_history = cls_model.fine_tune_model(num_epochs=num_epochs, base_lr=base_lr)\n",
        "results_dict[tata_flag][f'{organism}_b{b_size}'] = [train_history, val_history, test_tata_history, test_non_tata_history, test_all_data_history]"
      ]
    },
    {
      "cell_type": "code",
      "execution_count": null,
      "metadata": {
        "id": "rOSXNOYEWVJq",
        "scrolled": true,
        "collapsed": true,
        "outputId": "c7dec1b4-438b-4822-c141-ebc78b28bd5d"
      },
      "outputs": [
        {
          "data": {
            "text/plain": [
              "defaultdict(dict,\n",
              "            {'non_tata': {'celegans_b16': [{'loss': [0.7075699082592077,\n",
              "                 0.6854326607888205,\n",
              "                 0.6061219870521312,\n",
              "                 0.4819230304213992,\n",
              "                 0.27651469115363925,\n",
              "                 0.09798021885635855,\n",
              "                 0.04494691505066217,\n",
              "                 0.020187461598349426,\n",
              "                 0.010333085880464703,\n",
              "                 0.013911574812536536,\n",
              "                 0.015930591173865218,\n",
              "                 0.009740989103151501],\n",
              "                'accuracy': [0.49923178226514486,\n",
              "                 0.5522388059701493,\n",
              "                 0.6493634767339772,\n",
              "                 0.7490122914837577,\n",
              "                 0.8754389815627743,\n",
              "                 0.9625768217734855,\n",
              "                 0.9852941176470589,\n",
              "                 0.9930860403863038,\n",
              "                 0.9971466198419666,\n",
              "                 0.9947322212467077,\n",
              "                 0.9952809482001755,\n",
              "                 0.9968173836698858]},\n",
              "               {'loss': [0.6913727596923188,\n",
              "                 0.7077707685790695,\n",
              "                 0.7816342667683022,\n",
              "                 0.8932279087863602,\n",
              "                 0.9258001446723938,\n",
              "                 1.192996746697626,\n",
              "                 1.4035534428341405,\n",
              "                 1.711888914341693,\n",
              "                 1.7883960082345491,\n",
              "                 1.6953580572263345,\n",
              "                 1.650036307637925,\n",
              "                 1.972789714803229],\n",
              "                'accuracy': [0.5237050043898156,\n",
              "                 0.528972783143108,\n",
              "                 0.5223880597014925,\n",
              "                 0.5759438103599649,\n",
              "                 0.659350307287094,\n",
              "                 0.6584723441615452,\n",
              "                 0.6786654960491659,\n",
              "                 0.6791044776119403,\n",
              "                 0.6852502194907814,\n",
              "                 0.679982440737489,\n",
              "                 0.6843722563652327,\n",
              "                 0.6821773485513608],\n",
              "                'f1': [0.4035184167124794,\n",
              "                 0.5899885364921666,\n",
              "                 0.5779674166020171,\n",
              "                 0.6037735849056605,\n",
              "                 0.6322274881516587,\n",
              "                 0.653606411398041,\n",
              "                 0.6885106382978724,\n",
              "                 0.7053607416364368,\n",
              "                 0.6597057427622212,\n",
              "                 0.6364089775561097,\n",
              "                 0.6954680220245659,\n",
              "                 0.6610486891385768],\n",
              "                'auc': [0.5300935543323511,\n",
              "                 0.5422220098186956,\n",
              "                 0.5410796556904576,\n",
              "                 0.5953175813850234,\n",
              "                 0.7022972726102483,\n",
              "                 0.7071441840531373,\n",
              "                 0.7416965423360911,\n",
              "                 0.7325715840566829,\n",
              "                 0.7549149362416857,\n",
              "                 0.7431094540210171,\n",
              "                 0.751935334431494,\n",
              "                 0.7399552616507402],\n",
              "                'mcc': [0.05180252344836158,\n",
              "                 0.060696231154161055,\n",
              "                 0.0464150474443827,\n",
              "                 0.1534087678193076,\n",
              "                 0.32222498807715033,\n",
              "                 0.31706984763917434,\n",
              "                 0.35804707314812095,\n",
              "                 0.36403738062241303,\n",
              "                 0.374747828067552,\n",
              "                 0.37077254019213324,\n",
              "                 0.36972747798209926,\n",
              "                 0.36721968411363903]},\n",
              "               {'loss': 2.0470793705720167,\n",
              "                'accuracy': 0.6576354679802956,\n",
              "                'f1': 0.6128133704735376,\n",
              "                'auc': 0.7234342012667137,\n",
              "                'mcc': 0.32407659746677336,\n",
              "                'tp_rate': 0.541871921182266,\n",
              "                'fp_rate': 0.22660098522167488},\n",
              "               {'loss': 1.9970809739886546,\n",
              "                'accuracy': 0.6775777414075287,\n",
              "                'f1': 0.6500888099467141,\n",
              "                'auc': 0.7394005426964998,\n",
              "                'mcc': 0.3596221328546282,\n",
              "                'tp_rate': 0.5990180032733224,\n",
              "                'fp_rate': 0.24386252045826515},\n",
              "               {'loss': 1.9938063852946852,\n",
              "                'accuracy': 0.6747368421052632,\n",
              "                'f1': 0.6449636154729989,\n",
              "                'auc': 0.7375298245614035,\n",
              "                'mcc': 0.3544951822235997,\n",
              "                'tp_rate': 0.5908771929824561,\n",
              "                'fp_rate': 0.24140350877192981}],\n",
              "              'gallus_b16': [{'loss': [0.7054167278186853,\n",
              "                 0.6889946998501019,\n",
              "                 0.6106352121426957,\n",
              "                 0.4725729133895847,\n",
              "                 0.2476862595661291,\n",
              "                 0.06589515373734814,\n",
              "                 0.02972444069310748,\n",
              "                 0.01317514833373486,\n",
              "                 0.008781132289847926,\n",
              "                 0.018633230512243575,\n",
              "                 0.007932850911751221,\n",
              "                 0.006990205327320613,\n",
              "                 0.0029870387789314493,\n",
              "                 0.005282262662226949,\n",
              "                 0.005794982919477774,\n",
              "                 0.009812634646708026],\n",
              "                'accuracy': [0.5071410354501402,\n",
              "                 0.5521550624840602,\n",
              "                 0.6595256312165264,\n",
              "                 0.754271869421066,\n",
              "                 0.8902065799540934,\n",
              "                 0.976664116296863,\n",
              "                 0.9894159653149707,\n",
              "                 0.9961744452945677,\n",
              "                 0.9974496301963784,\n",
              "                 0.993241520020403,\n",
              "                 0.9975771486865596,\n",
              "                 0.9971945932160163,\n",
              "                 0.9993624075490947,\n",
              "                 0.9985972966080081,\n",
              "                 0.9978321856669217,\n",
              "                 0.9977046671767407]},\n",
              "               {'loss': [0.6933511088534099,\n",
              "                 0.7007738061067534,\n",
              "                 0.7758279236836162,\n",
              "                 1.1696737379562565,\n",
              "                 1.1600463924611486,\n",
              "                 1.573977042989033,\n",
              "                 1.7464598799502946,\n",
              "                 1.7443145006531622,\n",
              "                 1.9639489793680547,\n",
              "                 1.7289224795209683,\n",
              "                 1.9247767869420955,\n",
              "                 1.925591367531598,\n",
              "                 2.164742532239212,\n",
              "                 2.2521125398031097,\n",
              "                 2.3501061404623638,\n",
              "                 1.7787074047950953],\n",
              "                'accuracy': [0.5097037793667007,\n",
              "                 0.5010214504596527,\n",
              "                 0.5194075587334014,\n",
              "                 0.5515832482124617,\n",
              "                 0.6373850868232891,\n",
              "                 0.6527068437180796,\n",
              "                 0.6618998978549541,\n",
              "                 0.6562819203268642,\n",
              "                 0.6608784473953013,\n",
              "                 0.6710929519918284,\n",
              "                 0.6767109295199183,\n",
              "                 0.667517875383044,\n",
              "                 0.6813074565883555,\n",
              "                 0.6700715015321757,\n",
              "                 0.6567926455566905,\n",
              "                 0.6746680286006129],\n",
              "                'f1': [0.6094385679414158,\n",
              "                 0.4733153638814016,\n",
              "                 0.529735132433783,\n",
              "                 0.5383806519453207,\n",
              "                 0.6669793621013134,\n",
              "                 0.6813495782567948,\n",
              "                 0.6767578125,\n",
              "                 0.6740920096852301,\n",
              "                 0.6391304347826088,\n",
              "                 0.6734279918864098,\n",
              "                 0.7059916395726893,\n",
              "                 0.6979118329466357,\n",
              "                 0.6813074565883555,\n",
              "                 0.6724137931034482,\n",
              "                 0.5980861244019138,\n",
              "                 0.6921217979700339],\n",
              "                'auc': [0.5129955834527112,\n",
              "                 0.5133482394847466,\n",
              "                 0.5181163994445146,\n",
              "                 0.5569617743815217,\n",
              "                 0.6667150090615906,\n",
              "                 0.6955748971506853,\n",
              "                 0.7104292282988729,\n",
              "                 0.7149391564008635,\n",
              "                 0.7126562824420074,\n",
              "                 0.7186290027242156,\n",
              "                 0.7405959260924773,\n",
              "                 0.7359388840836317,\n",
              "                 0.7441704810207409,\n",
              "                 0.7334363826255346,\n",
              "                 0.7299979863131898,\n",
              "                 0.7456990049465746],\n",
              "                'mcc': [0.022573648447773886,\n",
              "                 0.002054302109878824,\n",
              "                 0.038852612294776545,\n",
              "                 0.10333569110771765,\n",
              "                 0.27921560460352135,\n",
              "                 0.3104719887447133,\n",
              "                 0.32517678217204066,\n",
              "                 0.31444759061269795,\n",
              "                 0.3241198761420272,\n",
              "                 0.3422208976481043,\n",
              "                 0.3606484076331278,\n",
              "                 0.34203205230607336,\n",
              "                 0.3626149131767109,\n",
              "                 0.34017778781139923,\n",
              "                 0.32788873438336985,\n",
              "                 0.3516033420765335]},\n",
              "               {'loss': 2.1907235664479874,\n",
              "                'accuracy': 0.6148148148148148,\n",
              "                'f1': 0.6258992805755396,\n",
              "                'auc': 0.6844993141289437,\n",
              "                'mcc': 0.23003388521837215,\n",
              "                'tp_rate': 0.6444444444444445,\n",
              "                'fp_rate': 0.4148148148148148},\n",
              "               {'loss': 1.8007295112105182,\n",
              "                'accuracy': 0.6769019248395967,\n",
              "                'f1': 0.6933449325793823,\n",
              "                'auc': 0.7425788532287754,\n",
              "                'mcc': 0.3558560543528204,\n",
              "                'tp_rate': 0.7305224564619615,\n",
              "                'fp_rate': 0.3767186067827681},\n",
              "               {'loss': 1.832098243871474,\n",
              "                'accuracy': 0.6700652528548124,\n",
              "                'f1': 0.6860690725649982,\n",
              "                'auc': 0.7359494796004993,\n",
              "                'mcc': 0.3419122972680972,\n",
              "                'tp_rate': 0.7210440456769984,\n",
              "                'fp_rate': 0.3809135399673736}],\n",
              "              'human_b16': [{'loss': [0.6980388424535459,\n",
              "                 0.4672851956141106,\n",
              "                 0.22781121978580296,\n",
              "                 0.11986777840040205,\n",
              "                 0.06727258006326706],\n",
              "                'accuracy': [0.521117094287826,\n",
              "                 0.7725161017843944,\n",
              "                 0.909222890930208,\n",
              "                 0.956076443881322,\n",
              "                 0.9769823672262696]},\n",
              "               {'loss': [0.6818327692312163,\n",
              "                 0.39473678289937814,\n",
              "                 0.4283073229583081,\n",
              "                 0.535993028922963,\n",
              "                 0.6984699256755522],\n",
              "                'accuracy': [0.5294614572333686,\n",
              "                 0.8276663146779303,\n",
              "                 0.8267159450897571,\n",
              "                 0.8054910242872229,\n",
              "                 0.8167898627243928],\n",
              "                'f1': [0.6761627906976744,\n",
              "                 0.8235675675675677,\n",
              "                 0.8286519786989663,\n",
              "                 0.8205378020265005,\n",
              "                 0.8167318052181262],\n",
              "                'auc': [0.6602497521768849,\n",
              "                 0.9064070721859393,\n",
              "                 0.9055684766767507,\n",
              "                 0.8954491090076038,\n",
              "                 0.8883870255539362],\n",
              "                'mcc': [0.13921966759584595,\n",
              "                 0.656041131294735,\n",
              "                 0.6535987932356233,\n",
              "                 0.6197576857387697,\n",
              "                 0.633579852615646]},\n",
              "               {'loss': 0.6812439438003999,\n",
              "                'accuracy': 0.8094462540716613,\n",
              "                'f1': 0.814873417721519,\n",
              "                'auc': 0.8863807573555157,\n",
              "                'mcc': 0.619959042839962,\n",
              "                'tp_rate': 0.8387622149837134,\n",
              "                'fp_rate': 0.21986970684039087},\n",
              "               {'loss': 0.7042139127109963,\n",
              "                'accuracy': 0.8159035236480121,\n",
              "                'f1': 0.8147516116799393,\n",
              "                'auc': 0.8886237300344845,\n",
              "                'mcc': 0.6318559119183966,\n",
              "                'tp_rate': 0.8096853212737893,\n",
              "                'fp_rate': 0.1778782739777652},\n",
              "               {'loss': 0.7009296288007466,\n",
              "                'accuracy': 0.8152339131903394,\n",
              "                'f1': 0.8147646461225873,\n",
              "                'auc': 0.8882417831516418,\n",
              "                'mcc': 0.630475919085172,\n",
              "                'tp_rate': 0.8127005573382875,\n",
              "                'fp_rate': 0.1822327309576085}],\n",
              "              'melanogaster_b16': [{'loss': [0.7034718275772455,\n",
              "                 0.6902744817452859,\n",
              "                 0.6098371194195502,\n",
              "                 0.37585888235159054,\n",
              "                 0.1818950850374596,\n",
              "                 0.08391612981064094,\n",
              "                 0.0419760275498754,\n",
              "                 0.027494616848319758,\n",
              "                 0.024995352343721446],\n",
              "                'accuracy': [0.5009667618083049,\n",
              "                 0.5419850842463861,\n",
              "                 0.661126968050824,\n",
              "                 0.8279624343983059,\n",
              "                 0.9282294448025044,\n",
              "                 0.9699843476659608,\n",
              "                 0.9857287542583556,\n",
              "                 0.9912070711720836,\n",
              "                 0.9914832888315993]},\n",
              "               {'loss': [0.6975035777863334,\n",
              "                 0.6989262486205382,\n",
              "                 0.6886293434921433,\n",
              "                 0.7669651036315105,\n",
              "                 0.8702951570863233,\n",
              "                 1.2087801260983242,\n",
              "                 1.1001988499863622,\n",
              "                 1.6503063296132228,\n",
              "                 1.5740316422984881],\n",
              "                'accuracy': [0.5,\n",
              "                 0.5086588061901253,\n",
              "                 0.6239867354458364,\n",
              "                 0.6803610906411202,\n",
              "                 0.6936256448047163,\n",
              "                 0.6943625644804716,\n",
              "                 0.6938098747236551,\n",
              "                 0.6864406779661016,\n",
              "                 0.6928887251289609],\n",
              "                'f1': [0.0,\n",
              "                 0.6451097804391218,\n",
              "                 0.6398447150167637,\n",
              "                 0.6698382492863938,\n",
              "                 0.6750048856752003,\n",
              "                 0.6826095274536063,\n",
              "                 0.6760233918128654,\n",
              "                 0.6583701324769169,\n",
              "                 0.6557918645467684],\n",
              "                'auc': [0.5161425187447494,\n",
              "                 0.5312749633576602,\n",
              "                 0.6631771365918904,\n",
              "                 0.7370651454370987,\n",
              "                 0.7667011820582595,\n",
              "                 0.7639128208275113,\n",
              "                 0.7574881927221444,\n",
              "                 0.7546046618722537,\n",
              "                 0.7571080572961836],\n",
              "                'mcc': [0.0,\n",
              "                 0.027089328176689888,\n",
              "                 0.24894060409862062,\n",
              "                 0.3614572726549232,\n",
              "                 0.38981912393428597,\n",
              "                 0.3897956029462221,\n",
              "                 0.389977715712531,\n",
              "                 0.37802058171366576,\n",
              "                 0.39506421519092555]},\n",
              "               {'loss': 1.716912966966629,\n",
              "                'accuracy': 0.6711538461538461,\n",
              "                'f1': 0.625,\n",
              "                'auc': 0.7286002218934912,\n",
              "                'mcc': 0.3531746031746032,\n",
              "                'tp_rate': 0.5480769230769231,\n",
              "                'fp_rate': 0.20576923076923076},\n",
              "               {'loss': 1.5246455031822228,\n",
              "                'accuracy': 0.6977391304347826,\n",
              "                'f1': 0.6648669494793675,\n",
              "                'auc': 0.7637491417769376,\n",
              "                'mcc': 0.40331502743962416,\n",
              "                'tp_rate': 0.5996521739130435,\n",
              "                'fp_rate': 0.20417391304347826},\n",
              "               {'loss': 1.5506952698200065,\n",
              "                'accuracy': 0.6936671575846833,\n",
              "                'f1': 0.6589045588717612,\n",
              "                'auc': 0.7586070653152321,\n",
              "                'mcc': 0.3956401985329929,\n",
              "                'tp_rate': 0.5917525773195876,\n",
              "                'fp_rate': 0.2044182621502209}],\n",
              "              'mulatta_b16': [{'loss': [0.7047448711233505,\n",
              "                 0.6857849065884728,\n",
              "                 0.5938508591029497,\n",
              "                 0.421687634810146,\n",
              "                 0.19931758453404658,\n",
              "                 0.0735753910360373,\n",
              "                 0.039222951818073504,\n",
              "                 0.0304268711651514,\n",
              "                 0.014273214154954207,\n",
              "                 0.01632821426610033,\n",
              "                 0.014703726984726957,\n",
              "                 0.016587194015601547,\n",
              "                 0.01228518519701404,\n",
              "                 0.008258111773027307,\n",
              "                 0.011425686357429762,\n",
              "                 0.012244602658211616],\n",
              "                'accuracy': [0.503690036900369,\n",
              "                 0.5617158671586716,\n",
              "                 0.670479704797048,\n",
              "                 0.8004612546125461,\n",
              "                 0.9172509225092251,\n",
              "                 0.9725092250922509,\n",
              "                 0.9865313653136532,\n",
              "                 0.9894833948339483,\n",
              "                 0.9950184501845019,\n",
              "                 0.9947416974169742,\n",
              "                 0.9943726937269373,\n",
              "                 0.9949261992619927,\n",
              "                 0.9961254612546125,\n",
              "                 0.9968634686346863,\n",
              "                 0.9955719557195571,\n",
              "                 0.9957564575645756]},\n",
              "               {'loss': [0.693507353698506,\n",
              "                 0.6927405255682328,\n",
              "                 0.7987172549261766,\n",
              "                 0.9195946930085912,\n",
              "                 1.159624552463784,\n",
              "                 1.8232036558582503,\n",
              "                 2.1881099988432493,\n",
              "                 1.8392976071028149,\n",
              "                 1.9949693240663584,\n",
              "                 2.2231332216521396,\n",
              "                 1.9821704940322566,\n",
              "                 1.8423232134650736,\n",
              "                 1.496775335161125,\n",
              "                 2.3391915568534065,\n",
              "                 2.3641068281058004,\n",
              "                 2.22279837054358],\n",
              "                'accuracy': [0.516248153618907,\n",
              "                 0.5302806499261448,\n",
              "                 0.5550221565731167,\n",
              "                 0.6100443131462334,\n",
              "                 0.628138847858198,\n",
              "                 0.6251846381093058,\n",
              "                 0.6085672082717873,\n",
              "                 0.6469719350073855,\n",
              "                 0.6499261447562777,\n",
              "                 0.6410635155096012,\n",
              "                 0.6558345642540621,\n",
              "                 0.6558345642540621,\n",
              "                 0.6624815361890695,\n",
              "                 0.6488183161004432,\n",
              "                 0.6477104874446086,\n",
              "                 0.6584194977843427],\n",
              "                'f1': [0.662197008767406,\n",
              "                 0.44743701129452657,\n",
              "                 0.5324020178502135,\n",
              "                 0.628691983122363,\n",
              "                 0.6157954979015644,\n",
              "                 0.5623113410952998,\n",
              "                 0.5119705340699816,\n",
              "                 0.6250980392156863,\n",
              "                 0.6514705882352941,\n",
              "                 0.6142857142857142,\n",
              "                 0.6480362537764351,\n",
              "                 0.6485671191553545,\n",
              "                 0.6503442999234891,\n",
              "                 0.6599928494815873,\n",
              "                 0.6015037593984962,\n",
              "                 0.6552366753633991],\n",
              "                'auc': [0.5326187629410314,\n",
              "                 0.5478488160251697,\n",
              "                 0.5677624588450655,\n",
              "                 0.6265531965029487,\n",
              "                 0.6545761887203297,\n",
              "                 0.674316648084673,\n",
              "                 0.6740521001289468,\n",
              "                 0.7097396193564012,\n",
              "                 0.707827510369189,\n",
              "                 0.6958530335195896,\n",
              "                 0.7168480501997473,\n",
              "                 0.7094554348513841,\n",
              "                 0.7255309504744409,\n",
              "                 0.7194597112554519,\n",
              "                 0.7170054153239267,\n",
              "                 0.7258983175840936],\n",
              "                'mcc': [0.0645652875710029,\n",
              "                 0.0634824018394585,\n",
              "                 0.11056299969339026,\n",
              "                 0.22120731569928562,\n",
              "                 0.25680837154754543,\n",
              "                 0.26138902450003304,\n",
              "                 0.23645024943187884,\n",
              "                 0.29596583892937567,\n",
              "                 0.29986406633485446,\n",
              "                 0.28488652043721274,\n",
              "                 0.3119755852237035,\n",
              "                 0.31193603560354666,\n",
              "                 0.3257490238733119,\n",
              "                 0.29828170565506973,\n",
              "                 0.3037003542697069,\n",
              "                 0.3168930165389734]},\n",
              "               {'loss': 3.0333828131357827,\n",
              "                'accuracy': 0.6470588235294118,\n",
              "                'f1': 0.6842105263157895,\n",
              "                'auc': 0.6885813148788928,\n",
              "                'mcc': 0.3026137663344012,\n",
              "                'tp_rate': 0.7647058823529411,\n",
              "                'fp_rate': 0.47058823529411764},\n",
              "               {'loss': 2.326238629268241,\n",
              "                'accuracy': 0.6427644386761843,\n",
              "                'f1': 0.644034917555771,\n",
              "                'auc': 0.7081073205201036,\n",
              "                'mcc': 0.28553615207990635,\n",
              "                'tp_rate': 0.6463335496430889,\n",
              "                'fp_rate': 0.36080467229072033},\n",
              "               {'loss': 2.3354639429312485,\n",
              "                'accuracy': 0.6428112965340179,\n",
              "                'f1': 0.6445225167678058,\n",
              "                'auc': 0.7075531317099537,\n",
              "                'mcc': 0.28563583161641287,\n",
              "                'tp_rate': 0.6476251604621309,\n",
              "                'fp_rate': 0.362002567394095}],\n",
              "              'musculus_b16': [{'loss': [0.6918140317886641,\n",
              "                 0.4141271533775915,\n",
              "                 0.2024615227530476,\n",
              "                 0.10727710912598332,\n",
              "                 0.058654573569569456,\n",
              "                 0.03570525622607641,\n",
              "                 0.026258861984493845,\n",
              "                 0.02329233703908181,\n",
              "                 0.020476858183337568],\n",
              "                'accuracy': [0.5330555271500154,\n",
              "                 0.8106145822681255,\n",
              "                 0.9207485427957869,\n",
              "                 0.9608344411494018,\n",
              "                 0.9808262603538194,\n",
              "                 0.9890070559361898,\n",
              "                 0.99171694447285,\n",
              "                 0.9926884139482565,\n",
              "                 0.993941098271807]},\n",
              "               {'loss': [0.5862583176370161,\n",
              "                 0.2808951761172825,\n",
              "                 0.11789209077197806,\n",
              "                 0.14215421255407076,\n",
              "                 0.12464242581875468,\n",
              "                 0.0964276804041444,\n",
              "                 0.13596865556790008,\n",
              "                 0.1549834757233368,\n",
              "                 0.12274319154884762],\n",
              "                'accuracy': [0.6804033864541833,\n",
              "                 0.8794820717131474,\n",
              "                 0.9648904382470119,\n",
              "                 0.9594123505976095,\n",
              "                 0.9660109561752988,\n",
              "                 0.9777141434262948,\n",
              "                 0.9734810756972112,\n",
              "                 0.9657619521912351,\n",
              "                 0.9770916334661355],\n",
              "                'f1': [0.5814446437306375,\n",
              "                 0.8905967450271247,\n",
              "                 0.9650557620817843,\n",
              "                 0.9582586427656848,\n",
              "                 0.9652715939447907,\n",
              "                 0.9775829680651221,\n",
              "                 0.9737846153846154,\n",
              "                 0.9648921230690667,\n",
              "                 0.9772277227722772],\n",
              "                'auc': [0.8000795002261869,\n",
              "                 0.9790417823228997,\n",
              "                 0.9899440460270472,\n",
              "                 0.9907099068863985,\n",
              "                 0.9914115946572277,\n",
              "                 0.9922332582022506,\n",
              "                 0.9879613766051333,\n",
              "                 0.9861128506392757,\n",
              "                 0.9901425485805779],\n",
              "                'mcc': [0.40947800808020157,\n",
              "                 0.7751335069795294,\n",
              "                 0.9298225020035391,\n",
              "                 0.9202317783984759,\n",
              "                 0.9328679544467214,\n",
              "                 0.9554937234972105,\n",
              "                 0.9472161643277336,\n",
              "                 0.9326696373848249,\n",
              "                 0.9542514291011461]},\n",
              "               {'loss': 0.9291118653827762,\n",
              "                'accuracy': 0.8277945619335347,\n",
              "                'f1': 0.8416666666666668,\n",
              "                'auc': 0.8969934557004774,\n",
              "                'mcc': 0.6658917122630493,\n",
              "                'tp_rate': 0.9154078549848943,\n",
              "                'fp_rate': 0.2598187311178248},\n",
              "               {'loss': 0.9557757619670836,\n",
              "                'accuracy': 0.817973406694177,\n",
              "                'f1': 0.8270152505446623,\n",
              "                'auc': 0.891029867802902,\n",
              "                'mcc': 0.6394505119898287,\n",
              "                'tp_rate': 0.8702430077945896,\n",
              "                'fp_rate': 0.23429619440623567},\n",
              "               {'loss': 0.9515782283545081,\n",
              "                'accuracy': 0.8192675159235668,\n",
              "                'f1': 0.8290018832391713,\n",
              "                'auc': 0.8918039746795002,\n",
              "                'mcc': 0.6427142497815961,\n",
              "                'tp_rate': 0.8761942675159236,\n",
              "                'fp_rate': 0.2376592356687898}],\n",
              "              'norvegicus_b16': [{'loss': [0.7011634735917023,\n",
              "                 0.65972762939758,\n",
              "                 0.4224829102846382,\n",
              "                 0.14985639053818064,\n",
              "                 0.050708472331203826,\n",
              "                 0.024183856283988964,\n",
              "                 0.01678555201527233,\n",
              "                 0.014360018844161292],\n",
              "                'accuracy': [0.5165082846003899,\n",
              "                 0.6093445419103314,\n",
              "                 0.8042153996101364,\n",
              "                 0.9446271929824561,\n",
              "                 0.9831262183235867,\n",
              "                 0.9915326510721247,\n",
              "                 0.9936647173489279,\n",
              "                 0.995004873294347]},\n",
              "               {'loss': [0.6880779832253661,\n",
              "                 0.7080268695196753,\n",
              "                 0.6246603257113393,\n",
              "                 0.7776774671870911,\n",
              "                 1.0074103950932332,\n",
              "                 1.2188968410876722,\n",
              "                 1.259189010093148,\n",
              "                 1.3483836533581468],\n",
              "                'accuracy': [0.5387615797172112,\n",
              "                 0.5899561189663579,\n",
              "                 0.7203803022915651,\n",
              "                 0.7259873232569478,\n",
              "                 0.7666991711360313,\n",
              "                 0.7564602632862019,\n",
              "                 0.7601170160897124,\n",
              "                 0.7601170160897124],\n",
              "                'f1': [0.6348900038595137,\n",
              "                 0.6503118503118502,\n",
              "                 0.7577613516367476,\n",
              "                 0.7620660457239627,\n",
              "                 0.7596081386586284,\n",
              "                 0.7752530933633296,\n",
              "                 0.7438833940655909,\n",
              "                 0.7549800796812749],\n",
              "                'auc': [0.5563880434583646,\n",
              "                 0.6327334111316951,\n",
              "                 0.827679996272525,\n",
              "                 0.8178057533861662,\n",
              "                 0.8364907914965074,\n",
              "                 0.8364016458894011,\n",
              "                 0.8369169074984769,\n",
              "                 0.8239545419211377],\n",
              "                'mcc': [0.09118973960257845,\n",
              "                 0.19169576109994035,\n",
              "                 0.463381892898777,\n",
              "                 0.47431203059661403,\n",
              "                 0.5343290140919991,\n",
              "                 0.5202471785737163,\n",
              "                 0.5244651724052096,\n",
              "                 0.5206919710260818]},\n",
              "               {'loss': 1.1926587919394176,\n",
              "                'accuracy': 0.7607361963190185,\n",
              "                'f1': 0.7678571428571429,\n",
              "                'auc': 0.8436147389815198,\n",
              "                'mcc': 0.5224565265108382,\n",
              "                'tp_rate': 0.7914110429447853,\n",
              "                'fp_rate': 0.26993865030674846},\n",
              "               {'loss': 1.3258584404923703,\n",
              "                'accuracy': 0.770766406608536,\n",
              "                'f1': 0.766534236971255,\n",
              "                'auc': 0.8226978242184514,\n",
              "                'mcc': 0.5418890698025636,\n",
              "                'tp_rate': 0.752638825149151,\n",
              "                'fp_rate': 0.21110601193207892},\n",
              "               {'loss': 1.3231512307485012,\n",
              "                'accuracy': 0.770068317677199,\n",
              "                'f1': 0.7666305525460455,\n",
              "                'auc': 0.8240578242628392,\n",
              "                'mcc': 0.5403712098982103,\n",
              "                'tp_rate': 0.7553373185311699,\n",
              "                'fp_rate': 0.215200683176772}],\n",
              "              'rerio_b16': [{'loss': [0.7051618452399657,\n",
              "                 0.6801880554353539,\n",
              "                 0.5875721636626162,\n",
              "                 0.402039519124106,\n",
              "                 0.17184787270763718,\n",
              "                 0.06251679984786265,\n",
              "                 0.03048087909240498,\n",
              "                 0.022121034675005095,\n",
              "                 0.016122682171211575,\n",
              "                 0.014521571473851805,\n",
              "                 0.013895293193666277,\n",
              "                 0.010046042843955721,\n",
              "                 0.00963073201948881,\n",
              "                 0.012038766757331813,\n",
              "                 0.008428053249816011,\n",
              "                 0.010153966382352827,\n",
              "                 0.006311478402956316],\n",
              "                'accuracy': [0.5088843577046315,\n",
              "                 0.5675065540343722,\n",
              "                 0.6798718322167201,\n",
              "                 0.8139382464316924,\n",
              "                 0.9325662685697641,\n",
              "                 0.9773521701136033,\n",
              "                 0.9901689484415963,\n",
              "                 0.9926449169822313,\n",
              "                 0.9951208855228663,\n",
              "                 0.9954849985435479,\n",
              "                 0.9949752403145936,\n",
              "                 0.997087095834547,\n",
              "                 0.9973783862510923,\n",
              "                 0.9962860471890475,\n",
              "                 0.9973783862510923,\n",
              "                 0.9971599184386833,\n",
              "                 0.9982522575007282]},\n",
              "               {'loss': [0.6900488346122032,\n",
              "                 0.6944064037744389,\n",
              "                 0.7650097318859987,\n",
              "                 0.7198941043643065,\n",
              "                 0.8160497087378834,\n",
              "                 1.2685555336433787,\n",
              "                 1.5845417332337346,\n",
              "                 1.5310872356558956,\n",
              "                 1.4738662014520445,\n",
              "                 1.7580551503356112,\n",
              "                 1.8552197029424269,\n",
              "                 1.5695201301990553,\n",
              "                 1.6250771351678426,\n",
              "                 1.731134155860474,\n",
              "                 2.045648758685173,\n",
              "                 1.8942305113513802,\n",
              "                 1.985482532756273],\n",
              "                'accuracy': [0.5166180758017492,\n",
              "                 0.5373177842565597,\n",
              "                 0.5696793002915452,\n",
              "                 0.689795918367347,\n",
              "                 0.6819241982507288,\n",
              "                 0.7037900874635569,\n",
              "                 0.6842565597667638,\n",
              "                 0.7011661807580175,\n",
              "                 0.7075801749271137,\n",
              "                 0.6970845481049562,\n",
              "                 0.7014577259475219,\n",
              "                 0.7099125364431487,\n",
              "                 0.6979591836734694,\n",
              "                 0.7134110787172012,\n",
              "                 0.6950437317784257,\n",
              "                 0.7052478134110787,\n",
              "                 0.6918367346938775],\n",
              "                'f1': [0.3137417218543046,\n",
              "                 0.49216,\n",
              "                 0.508327781479014,\n",
              "                 0.6954779622209502,\n",
              "                 0.6631676443346711,\n",
              "                 0.692493946731235,\n",
              "                 0.707534431541993,\n",
              "                 0.6989720998531571,\n",
              "                 0.7162659123055163,\n",
              "                 0.6856278366111952,\n",
              "                 0.7038750722961249,\n",
              "                 0.6974764366068713,\n",
              "                 0.6679487179487179,\n",
              "                 0.7056004791853848,\n",
              "                 0.7030096536059057,\n",
              "                 0.7032579982389199,\n",
              "                 0.7064704248819772],\n",
              "                'auc': [0.5516706474343174,\n",
              "                 0.5588042397300444,\n",
              "                 0.5874426471963212,\n",
              "                 0.7418626592661222,\n",
              "                 0.7383928465180325,\n",
              "                 0.7593652304736972,\n",
              "                 0.7554389752569084,\n",
              "                 0.7628804324728642,\n",
              "                 0.7811808005167915,\n",
              "                 0.7549012741289769,\n",
              "                 0.771706346845277,\n",
              "                 0.7849839777643669,\n",
              "                 0.7839607646473833,\n",
              "                 0.7725512329046571,\n",
              "                 0.7456495167829731,\n",
              "                 0.7699937951023808,\n",
              "                 0.7461612083400624],\n",
              "                'mcc': [0.04121108785922759,\n",
              "                 0.07584461106589456,\n",
              "                 0.14391217668352038,\n",
              "                 0.37985642614716736,\n",
              "                 0.3661260734702973,\n",
              "                 0.40868465636617324,\n",
              "                 0.37327272571161835,\n",
              "                 0.40237511543803334,\n",
              "                 0.4159406456557042,\n",
              "                 0.3952202806994887,\n",
              "                 0.4029691623182767,\n",
              "                 0.42125119557824764,\n",
              "                 0.4025493209553215,\n",
              "                 0.42742428671589167,\n",
              "                 0.39064995765909044,\n",
              "                 0.4105325470651243,\n",
              "                 0.3855950067753093]},\n",
              "               {'loss': 1.9420699234362002,\n",
              "                'accuracy': 0.6990632318501171,\n",
              "                'f1': 0.7122060470324748,\n",
              "                'auc': 0.75743024971343,\n",
              "                'mcc': 0.39979752408290403,\n",
              "                'tp_rate': 0.7447306791569087,\n",
              "                'fp_rate': 0.34660421545667447},\n",
              "               {'loss': 1.987915573979533,\n",
              "                'accuracy': 0.6866279069767441,\n",
              "                'f1': 0.6961668545659527,\n",
              "                'auc': 0.7446716130340725,\n",
              "                'mcc': 0.3739938094974783,\n",
              "                'tp_rate': 0.7180232558139535,\n",
              "                'fp_rate': 0.3447674418604651},\n",
              "               {'loss': 1.9809950214557932,\n",
              "                'accuracy': 0.6891010712622264,\n",
              "                'f1': 0.6993920288223374,\n",
              "                'auc': 0.747448644776596,\n",
              "                'mcc': 0.37909174253594125,\n",
              "                'tp_rate': 0.7233348858872846,\n",
              "                'fp_rate': 0.34513274336283184}]}})"
            ]
          },
          "execution_count": 31,
          "metadata": {},
          "output_type": "execute_result"
        }
      ],
      "source": [
        "results_dict"
      ]
    },
    {
      "cell_type": "code",
      "execution_count": null,
      "metadata": {
        "id": "Pw6prM0LwUAA",
        "outputId": "a59c67b1-a526-4b01-fb8c-595fbc8a216a"
      },
      "outputs": [
        {
          "name": "stdout",
          "output_type": "stream",
          "text": [
            "Vocabulary size: 30000\n",
            "Minimum token length: 1\n",
            "Average token length: 8.36\n",
            "Maximum token length: 128\n"
          ]
        }
      ],
      "source": [
        "import json\n",
        "# Path to the vocabulary JSON file\n",
        "vocab_file = \"models/wpc_tokenizer_rep/vocab.txt\"\n",
        "\n",
        "# Load the vocabulary JSON file\n",
        "with open(vocab_file, 'r') as f:\n",
        "    vocab = f.read()\n",
        "\n",
        "# Calculate statistics\n",
        "vocab = vocab.split()\n",
        "token_lengths = [len(token) for token in vocab]\n",
        "min_len = min(token_lengths)\n",
        "avg_len = sum(token_lengths) / len(token_lengths)\n",
        "max_len = max(token_lengths)\n",
        "vocab_size = len(vocab)\n",
        "\n",
        "# Print statistics\n",
        "print(f\"Vocabulary size: {vocab_size}\")\n",
        "print(f\"Minimum token length: {min_len}\")\n",
        "print(f\"Average token length: {avg_len:.2f}\")\n",
        "print(f\"Maximum token length: {max_len}\")"
      ]
    },
    {
      "cell_type": "markdown",
      "metadata": {
        "id": "J-BmVB70wUAA"
      },
      "source": [
        "#### merge dicts and save as json"
      ]
    },
    {
      "cell_type": "code",
      "execution_count": null,
      "metadata": {
        "id": "NZOdhZaowUAA",
        "outputId": "ef20047c-590c-4fbc-c7aa-24fcaf110c0e"
      },
      "outputs": [
        {
          "name": "stdout",
          "output_type": "stream",
          "text": [
            "Merged JSON data for 'genome' saved to wrong_idx/wpc/genome_merged.json\n",
            "Merged JSON data for 'rep' saved to wrong_idx/wpc/rep_merged.json\n"
          ]
        }
      ],
      "source": [
        "# Define the main folder path\n",
        "main_folder_path = 'wrong_idx/wpc'\n",
        "\n",
        "# Define subfolders\n",
        "subfolders = ['genome', 'rep']\n",
        "\n",
        "# Initialize empty dictionaries to hold merged data for each subfolder\n",
        "merged_dicts = {subfolder: {} for subfolder in subfolders}\n",
        "\n",
        "# Loop through each subfolder\n",
        "for subfolder in subfolders:\n",
        "    subfolder_path = os.path.join(main_folder_path, subfolder)\n",
        "\n",
        "    # Loop through all JSON files in the current subfolder\n",
        "    for file_name in os.listdir(subfolder_path):\n",
        "        if file_name.endswith('.json'):\n",
        "            file_path = os.path.join(subfolder_path, file_name)\n",
        "            with open(file_path, 'r') as file:\n",
        "                # Load JSON data from the file\n",
        "                data = json.load(file)\n",
        "                # Merge the JSON data into the corresponding merged_dict\n",
        "                for key, value in data.items():\n",
        "                    if key in merged_dicts[subfolder]:\n",
        "                        merged_dicts[subfolder][key].extend(value)\n",
        "                    else:\n",
        "                        merged_dicts[subfolder][key] = value\n",
        "\n",
        "# Save the merged dictionaries to new JSON files\n",
        "for subfolder in subfolders:\n",
        "    output_file_path = f'{main_folder_path}/{subfolder}_merged.json'\n",
        "    with open(output_file_path, 'w') as output_file:\n",
        "        json.dump(merged_dicts[subfolder], output_file, indent=4)\n",
        "    print(f\"Merged JSON data for '{subfolder}' saved to {output_file_path}\")"
      ]
    },
    {
      "cell_type": "markdown",
      "metadata": {
        "id": "f1uceVpRwUAB"
      },
      "source": [
        "# SHAP"
      ]
    },
    {
      "cell_type": "code",
      "execution_count": null,
      "metadata": {
        "id": "DP-7s6HmwUAB"
      },
      "outputs": [],
      "source": [
        "import shap\n",
        "from transformers import AutoModelForSequenceClassification, AutoTokenizer"
      ]
    },
    {
      "cell_type": "code",
      "execution_count": null,
      "metadata": {
        "id": "FyxrfU3JwUAB"
      },
      "outputs": [],
      "source": [
        "train_tata = pd.read_csv(\"data_exp1/train_tata_met_2.csv\", index_col = False)\n",
        "val_tata = pd.read_csv(\"data_exp1/val_tata_met_2.csv\", index_col = False)\n",
        "test_tata = pd.read_csv('data_exp1/test_tata_met_2.csv', index_col = False)\n",
        "\n",
        "train_non_tata = pd.read_csv('data_exp1/train_non_tata_met_2.csv', index_col = False)\n",
        "val_non_tata = pd.read_csv('data_exp1/val_non_tata_met_2.csv', index_col = False)\n",
        "test_non_tata = pd.read_csv('data_exp1/test_non_tata_met_2.csv', index_col = False)"
      ]
    },
    {
      "cell_type": "code",
      "execution_count": null,
      "metadata": {
        "id": "6ri44VE1wUAB",
        "outputId": "1bf57c09-9f48-4854-d479-a2147af2ab3e"
      },
      "outputs": [
        {
          "name": "stderr",
          "output_type": "stream",
          "text": [
            "Special tokens have been added in the vocabulary, make sure the associated word embeddings are fine-tuned or trained.\n"
          ]
        }
      ],
      "source": [
        "tokenizer_dir = 'models/wpc_tokenizer_rep'\n",
        "\n",
        "tokenizer = RobertaTokenizerFast.from_pretrained(tokenizer_dir)"
      ]
    },
    {
      "cell_type": "code",
      "execution_count": null,
      "metadata": {
        "id": "cRb9Ou-AwUAB"
      },
      "outputs": [],
      "source": [
        "non_tata_test_seq = test_non_tata[test_non_tata['organism'] == 'human']['seq'].tolist()"
      ]
    },
    {
      "cell_type": "code",
      "execution_count": null,
      "metadata": {
        "id": "DkjS7GNUwUAC"
      },
      "outputs": [],
      "source": [
        "test_tata_seq = test_tata[test_tata['organism'] == 'human']['seq'].tolist()"
      ]
    },
    {
      "cell_type": "code",
      "execution_count": null,
      "metadata": {
        "id": "_ZnYBe4VwUAC"
      },
      "outputs": [],
      "source": [
        "test_all = non_tata_test_seq + test_tata_seq"
      ]
    },
    {
      "cell_type": "code",
      "execution_count": null,
      "metadata": {
        "id": "btfFHzIdwUAD",
        "outputId": "726fcc7d-b725-4818-a41f-b41a9c855939"
      },
      "outputs": [
        {
          "name": "stderr",
          "output_type": "stream",
          "text": [
            "Asking to truncate to max_length but no maximum length is provided and the model has no predefined maximum length. Default to no truncation.\n"
          ]
        }
      ],
      "source": [
        "test_encodings_all = tokenizer(test_all, truncation=True, padding=True, return_tensors='pt')"
      ]
    },
    {
      "cell_type": "code",
      "execution_count": null,
      "metadata": {
        "id": "cICU6caAwUAD"
      },
      "outputs": [],
      "source": [
        "# Move inputs and masks to device\n",
        "input_ids = test_encodings_all['input_ids'].to(device)\n",
        "attention_mask = test_encodings_all['attention_mask'].to(device)"
      ]
    },
    {
      "cell_type": "code",
      "execution_count": null,
      "metadata": {
        "id": "3NhliZmKwUAD"
      },
      "outputs": [],
      "source": [
        "test_encodings_tokens_subset = test_encodings_all['input_ids'][:10000]\n",
        "# test_encodings_tokens_subset"
      ]
    },
    {
      "cell_type": "code",
      "execution_count": null,
      "metadata": {
        "id": "Z0Vjh7HfwUAD"
      },
      "outputs": [],
      "source": [
        "masker = shap.maskers.Partition(np.array(test_encodings_tokens_subset))"
      ]
    },
    {
      "cell_type": "code",
      "execution_count": null,
      "metadata": {
        "id": "_XkDh6qKwUAD"
      },
      "outputs": [],
      "source": [
        "def plot_shap_values(shap_dict, type=\"Global\"):\n",
        "  toekns = shap_dict.keys()\n",
        "  shap_values_ls = shap_dict.values()\n",
        "\n",
        "  # Determine the color for each bar based on positive or negative value\n",
        "  colors = ['green' if value >= 0 else 'red' for value in shap_values_ls]\n",
        "\n",
        "  # Create a bar plott with colors based on positive or negative values\n",
        "  plt.figure(figsize=(25, 6))\n",
        "  plt.bar(toekns, shap_values_ls, width=0.5, color=colors)\n",
        "\n",
        "  # Add title and labels to the plot\n",
        "  plt.title(f'{type} SHAP Values per Token')\n",
        "  plt.xlabel('Token')\n",
        "  plt.ylabel('SHAP Value')\n",
        "  plt.tight_layout()\n",
        "  plt.xticks(rotation = 90)\n",
        "\n",
        "  # Show the plot\n",
        "  plt.show()"
      ]
    },
    {
      "cell_type": "code",
      "execution_count": null,
      "metadata": {
        "id": "7gM4yoF5wUAD"
      },
      "outputs": [],
      "source": [
        "def model_predictions_for_shap(tokenized_data):\n",
        "    model.eval()  # Ensure the model is in evaluation mode\n",
        "\n",
        "    # Check if tokenized_data is already a tensor, then move it to the device\n",
        "    if isinstance(tokenized_data, torch.Tensor):\n",
        "        tensored_data = tokenized_data.to(device)\n",
        "    else:\n",
        "        # If tokenized_data is not a tensor (e.g., a list or numpy array),\n",
        "        # convert it efficiently to a tensor and then move to the device.\n",
        "        tensored_data = torch.as_tensor(tokenized_data, device=device)\n",
        "\n",
        "    with torch.no_grad():  # Context manager that disables gradient calculation\n",
        "        logits = model(tensored_data).logits\n",
        "        probabilities = F.softmax(logits, dim=1)  # Compute probabilities\n",
        "\n",
        "    return probabilities"
      ]
    },
    {
      "cell_type": "code",
      "execution_count": null,
      "metadata": {
        "id": "s6mo34RUwUAE",
        "outputId": "5d936df5-c775-4cc9-a297-d00ae60a1ff3"
      },
      "outputs": [
        {
          "data": {
            "text/plain": [
              "RobertaForSequenceClassification(\n",
              "  (roberta): RobertaModel(\n",
              "    (embeddings): RobertaEmbeddings(\n",
              "      (word_embeddings): Embedding(30007, 768, padding_idx=0)\n",
              "      (position_embeddings): Embedding(514, 768, padding_idx=0)\n",
              "      (token_type_embeddings): Embedding(1, 768)\n",
              "      (LayerNorm): LayerNorm((768,), eps=1e-12, elementwise_affine=True)\n",
              "      (dropout): Dropout(p=0.1, inplace=False)\n",
              "    )\n",
              "    (encoder): RobertaEncoder(\n",
              "      (layer): ModuleList(\n",
              "        (0-5): 6 x RobertaLayer(\n",
              "          (attention): RobertaAttention(\n",
              "            (self): RobertaSelfAttention(\n",
              "              (query): Linear(in_features=768, out_features=768, bias=True)\n",
              "              (key): Linear(in_features=768, out_features=768, bias=True)\n",
              "              (value): Linear(in_features=768, out_features=768, bias=True)\n",
              "              (dropout): Dropout(p=0.1, inplace=False)\n",
              "            )\n",
              "            (output): RobertaSelfOutput(\n",
              "              (dense): Linear(in_features=768, out_features=768, bias=True)\n",
              "              (LayerNorm): LayerNorm((768,), eps=1e-12, elementwise_affine=True)\n",
              "              (dropout): Dropout(p=0.1, inplace=False)\n",
              "            )\n",
              "          )\n",
              "          (intermediate): RobertaIntermediate(\n",
              "            (dense): Linear(in_features=768, out_features=3072, bias=True)\n",
              "            (intermediate_act_fn): GELUActivation()\n",
              "          )\n",
              "          (output): RobertaOutput(\n",
              "            (dense): Linear(in_features=3072, out_features=768, bias=True)\n",
              "            (LayerNorm): LayerNorm((768,), eps=1e-12, elementwise_affine=True)\n",
              "            (dropout): Dropout(p=0.1, inplace=False)\n",
              "          )\n",
              "        )\n",
              "      )\n",
              "    )\n",
              "  )\n",
              "  (classifier): RobertaClassificationHead(\n",
              "    (dense): Linear(in_features=768, out_features=768, bias=True)\n",
              "    (dropout): Dropout(p=0.1, inplace=False)\n",
              "    (out_proj): Linear(in_features=768, out_features=2, bias=True)\n",
              "  )\n",
              ")"
            ]
          },
          "execution_count": 47,
          "metadata": {},
          "output_type": "execute_result"
        }
      ],
      "source": [
        "model_dir = 'models/wpc fine tune models/method2/wpc_cls_human_model_b16'\n",
        "\n",
        "model = AutoModelForSequenceClassification.from_pretrained(model_dir)\n",
        "model.to(device)"
      ]
    },
    {
      "cell_type": "code",
      "execution_count": null,
      "metadata": {
        "id": "o59dnGx9wUAE",
        "outputId": "86572b64-7f84-4ccf-ae14-9e2692ac0d9f"
      },
      "outputs": [
        {
          "data": {
            "text/plain": [
              "RobertaForSequenceClassification(\n",
              "  (roberta): RobertaModel(\n",
              "    (embeddings): RobertaEmbeddings(\n",
              "      (word_embeddings): Embedding(30007, 768, padding_idx=0)\n",
              "      (position_embeddings): Embedding(514, 768, padding_idx=0)\n",
              "      (token_type_embeddings): Embedding(1, 768)\n",
              "      (LayerNorm): LayerNorm((768,), eps=1e-12, elementwise_affine=True)\n",
              "      (dropout): Dropout(p=0.1, inplace=False)\n",
              "    )\n",
              "    (encoder): RobertaEncoder(\n",
              "      (layer): ModuleList(\n",
              "        (0-5): 6 x RobertaLayer(\n",
              "          (attention): RobertaAttention(\n",
              "            (self): RobertaSelfAttention(\n",
              "              (query): Linear(in_features=768, out_features=768, bias=True)\n",
              "              (key): Linear(in_features=768, out_features=768, bias=True)\n",
              "              (value): Linear(in_features=768, out_features=768, bias=True)\n",
              "              (dropout): Dropout(p=0.1, inplace=False)\n",
              "            )\n",
              "            (output): RobertaSelfOutput(\n",
              "              (dense): Linear(in_features=768, out_features=768, bias=True)\n",
              "              (LayerNorm): LayerNorm((768,), eps=1e-12, elementwise_affine=True)\n",
              "              (dropout): Dropout(p=0.1, inplace=False)\n",
              "            )\n",
              "          )\n",
              "          (intermediate): RobertaIntermediate(\n",
              "            (dense): Linear(in_features=768, out_features=3072, bias=True)\n",
              "            (intermediate_act_fn): GELUActivation()\n",
              "          )\n",
              "          (output): RobertaOutput(\n",
              "            (dense): Linear(in_features=3072, out_features=768, bias=True)\n",
              "            (LayerNorm): LayerNorm((768,), eps=1e-12, elementwise_affine=True)\n",
              "            (dropout): Dropout(p=0.1, inplace=False)\n",
              "          )\n",
              "        )\n",
              "      )\n",
              "    )\n",
              "  )\n",
              "  (classifier): RobertaClassificationHead(\n",
              "    (dense): Linear(in_features=768, out_features=768, bias=True)\n",
              "    (dropout): Dropout(p=0.1, inplace=False)\n",
              "    (out_proj): Linear(in_features=768, out_features=2, bias=True)\n",
              "  )\n",
              ")"
            ]
          },
          "execution_count": 48,
          "metadata": {},
          "output_type": "execute_result"
        }
      ],
      "source": [
        "model.eval()"
      ]
    },
    {
      "cell_type": "code",
      "execution_count": null,
      "metadata": {
        "id": "2U0svVdWwUAF"
      },
      "outputs": [],
      "source": [
        "# Tokenize your test sequences\n",
        "test_encodings_all = {key: value.to(device) for key, value in test_encodings_all.items()}\n",
        "input_ids = test_encodings_all['input_ids']\n",
        "attention_mask = test_encodings_all['attention_mask']"
      ]
    },
    {
      "cell_type": "code",
      "execution_count": null,
      "metadata": {
        "id": "z7ads5q1wUAF"
      },
      "outputs": [],
      "source": [
        "# Subset of tokens for SHAP analysis\n",
        "test_encodings_tokens_subset = input_ids[:10000].cpu().numpy()  # Move to CPU and convert to numpy array"
      ]
    },
    {
      "cell_type": "code",
      "execution_count": null,
      "metadata": {
        "id": "HCTJZSbuwUAF"
      },
      "outputs": [],
      "source": [
        "# Define SHAP masker\n",
        "masker = shap.maskers.Partition(test_encodings_tokens_subset)"
      ]
    },
    {
      "cell_type": "code",
      "execution_count": null,
      "metadata": {
        "id": "apuChsu9wUAF"
      },
      "outputs": [],
      "source": [
        "explainer = shap.PartitionExplainer(model_predictions_for_shap, masker)"
      ]
    },
    {
      "cell_type": "code",
      "execution_count": null,
      "metadata": {
        "scrolled": true,
        "collapsed": true,
        "id": "sz2pxAG5wUAF",
        "outputId": "d83741d2-aa39-4784-a860-9e54efca5d7e"
      },
      "outputs": [
        {
          "name": "stderr",
          "output_type": "stream",
          "text": [
            "We strongly recommend passing in an `attention_mask` since your input_ids may be padded. See https://huggingface.co/docs/transformers/troubleshooting#incorrect-output-when-padding-tokens-arent-masked.\n",
            "PartitionExplainer explainer:  51%|█████     | 5124/10000 [2:33:59<2:26:31,  1.80s/it]"
          ]
        }
      ],
      "source": [
        "shap_values = explainer(np.array(test_encodings_tokens_subset), max_evals=30)"
      ]
    },
    {
      "cell_type": "code",
      "execution_count": null,
      "metadata": {
        "id": "RTQy4qunwUAF"
      },
      "outputs": [],
      "source": [
        "with open('models/SHAP/shap_wpc_human/shap_values_10000_met2.pkl', 'wb') as file:\n",
        "    pickle.dump(shap_values, file)"
      ]
    },
    {
      "cell_type": "code",
      "execution_count": null,
      "metadata": {
        "id": "LDyqic_-wUAF"
      },
      "outputs": [],
      "source": [
        "# Accessing all unique features and tokens\n",
        "unique_features = list(tokenizer.get_vocab().keys())\n",
        "unique_tokens = list(tokenizer.get_vocab().values())\n",
        "tokens_and_features_dict = dict(zip(unique_tokens, unique_features))\n",
        "\n",
        "print(f\"Number of unique features: {len(unique_features)}\")"
      ]
    },
    {
      "cell_type": "markdown",
      "metadata": {
        "id": "SQW5le-qwUAF"
      },
      "source": [
        "global SHAP"
      ]
    },
    {
      "cell_type": "code",
      "execution_count": null,
      "metadata": {
        "id": "ekuz_UBmwUAG"
      },
      "outputs": [],
      "source": [
        "# Create a defaultdict with list as the default factory function\n",
        "shap_values_list_per_token = defaultdict(list)\n",
        "\n",
        "for idx, seq in enumerate(shap_values.data):\n",
        "  deafault_dict_for_sequence = defaultdict(float)\n",
        "\n",
        "  for j, token in enumerate(seq):\n",
        "    shap_value_for_token_in_seq = shap_values.values[idx,j,1]\n",
        "    deafault_dict_for_sequence[token] += shap_value_for_token_in_seq\n",
        "\n",
        "  for key, value in deafault_dict_for_sequence.items():\n",
        "    shap_values_list_per_token[key].append(value)"
      ]
    },
    {
      "cell_type": "code",
      "execution_count": null,
      "metadata": {
        "id": "6h12oFFDwUAG"
      },
      "outputs": [],
      "source": [
        "features_shap_values_dict = {}\n",
        "for key, item in shap_values_list_per_token.items():\n",
        "  detokenized_feature = tokens_and_features_dict[key]\n",
        "  features_shap_values_dict[detokenized_feature] = np.average(item)"
      ]
    },
    {
      "cell_type": "code",
      "execution_count": null,
      "metadata": {
        "id": "WR-yKtuAwUAI"
      },
      "outputs": [],
      "source": [
        "# Sort the dictionary by value\n",
        "sorted_items = sorted(features_shap_values_dict.items(), key=lambda x: x[1])\n",
        "\n",
        "# Get the min 25 and max 25 items\n",
        "min_25_items = sorted_items[:25]\n",
        "max_25_items = sorted_items[-25:]\n",
        "\n",
        "# Create dictionaries from the min and max items\n",
        "min_25_dict = dict(min_25_items)\n",
        "max_25_dict = dict(max_25_items)\n",
        "\n",
        "combined_dict = {**min_25_dict, **max_25_dict}"
      ]
    },
    {
      "cell_type": "code",
      "execution_count": null,
      "metadata": {
        "id": "QCA1CoMLwUAI",
        "outputId": "509f1473-4f5d-46a8-d645-e595116f0a8e"
      },
      "outputs": [
        {
          "data": {
            "text/html": [
              "<div>\n",
              "<style scoped>\n",
              "    .dataframe tbody tr th:only-of-type {\n",
              "        vertical-align: middle;\n",
              "    }\n",
              "\n",
              "    .dataframe tbody tr th {\n",
              "        vertical-align: top;\n",
              "    }\n",
              "\n",
              "    .dataframe thead th {\n",
              "        text-align: right;\n",
              "    }\n",
              "</style>\n",
              "<table border=\"1\" class=\"dataframe\">\n",
              "  <thead>\n",
              "    <tr style=\"text-align: right;\">\n",
              "      <th></th>\n",
              "      <th>first motif</th>\n",
              "      <th>second motif</th>\n",
              "      <th>third motif</th>\n",
              "    </tr>\n",
              "  </thead>\n",
              "  <tbody>\n",
              "    <tr>\n",
              "      <th>0</th>\n",
              "      <td>TATTGTGGTTA</td>\n",
              "      <td>ATCAACAACAT</td>\n",
              "      <td>GCACTAAAACG</td>\n",
              "    </tr>\n",
              "    <tr>\n",
              "      <th>1</th>\n",
              "      <td>GCCCGGGGG</td>\n",
              "      <td>AAAGCAAAC</td>\n",
              "      <td>AAATTCCCT</td>\n",
              "    </tr>\n",
              "    <tr>\n",
              "      <th>2</th>\n",
              "      <td>TGACCTTTGAACCT</td>\n",
              "      <td>GAGAACCAACCATC</td>\n",
              "      <td>AAAAAAAAAGGGAG</td>\n",
              "    </tr>\n",
              "    <tr>\n",
              "      <th>3</th>\n",
              "      <td>CCTGGTGACGTC</td>\n",
              "      <td>GGGCAATAAACA</td>\n",
              "      <td>TTCATAAAAAAG</td>\n",
              "    </tr>\n",
              "    <tr>\n",
              "      <th>4</th>\n",
              "      <td>TTTGGCGC</td>\n",
              "      <td>AAACCAAG</td>\n",
              "      <td>AAAAAAAA</td>\n",
              "    </tr>\n",
              "    <tr>\n",
              "      <th>...</th>\n",
              "      <td>...</td>\n",
              "      <td>...</td>\n",
              "      <td>...</td>\n",
              "    </tr>\n",
              "    <tr>\n",
              "      <th>245</th>\n",
              "      <td>ACCATCTGTT</td>\n",
              "      <td>GAGAGAATGA</td>\n",
              "      <td>TAAACAAACC</td>\n",
              "    </tr>\n",
              "    <tr>\n",
              "      <th>246</th>\n",
              "      <td>ACATTCCAG</td>\n",
              "      <td>GAGCAATTA</td>\n",
              "      <td>TGTGGTAGT</td>\n",
              "    </tr>\n",
              "    <tr>\n",
              "      <th>247</th>\n",
              "      <td>GCCTCAGGC</td>\n",
              "      <td>CATCGGCCG</td>\n",
              "      <td>TGGGACATA</td>\n",
              "    </tr>\n",
              "    <tr>\n",
              "      <th>248</th>\n",
              "      <td>GTCATGTGAC</td>\n",
              "      <td>ACGCCAGCGT</td>\n",
              "      <td>CGATGCATCG</td>\n",
              "    </tr>\n",
              "    <tr>\n",
              "      <th>249</th>\n",
              "      <td>CACCTG</td>\n",
              "      <td>TGTGCA</td>\n",
              "      <td>GTGAGC</td>\n",
              "    </tr>\n",
              "  </tbody>\n",
              "</table>\n",
              "<p>250 rows × 3 columns</p>\n",
              "</div>"
            ],
            "text/plain": [
              "        first motif    second motif     third motif\n",
              "0       TATTGTGGTTA     ATCAACAACAT     GCACTAAAACG\n",
              "1         GCCCGGGGG       AAAGCAAAC       AAATTCCCT\n",
              "2    TGACCTTTGAACCT  GAGAACCAACCATC  AAAAAAAAAGGGAG\n",
              "3      CCTGGTGACGTC    GGGCAATAAACA    TTCATAAAAAAG\n",
              "4          TTTGGCGC        AAACCAAG        AAAAAAAA\n",
              "..              ...             ...             ...\n",
              "245      ACCATCTGTT      GAGAGAATGA      TAAACAAACC\n",
              "246       ACATTCCAG       GAGCAATTA       TGTGGTAGT\n",
              "247       GCCTCAGGC       CATCGGCCG       TGGGACATA\n",
              "248      GTCATGTGAC      ACGCCAGCGT      CGATGCATCG\n",
              "249          CACCTG          TGTGCA          GTGAGC\n",
              "\n",
              "[250 rows x 3 columns]"
            ]
          },
          "execution_count": 30,
          "metadata": {},
          "output_type": "execute_result"
        }
      ],
      "source": [
        "motifs = pd.read_csv('known human motifs.csv')\n",
        "motifs"
      ]
    },
    {
      "cell_type": "code",
      "execution_count": null,
      "metadata": {
        "collapsed": true,
        "id": "kLdfm_YDwUAJ",
        "outputId": "1240644b-bffe-4b07-dca2-8668e2209db9"
      },
      "outputs": [
        {
          "name": "stdout",
          "output_type": "stream",
          "text": [
            "Matches found:\n",
            "[('AAAAAA', 0.0016052336153252816, 'third motif')]\n"
          ]
        }
      ],
      "source": [
        "# Function to find matches\n",
        "def find_matches(motifs, sequence_dict):\n",
        "    matches = []\n",
        "    for col in motifs.columns:\n",
        "        for seq in motifs[col]:\n",
        "            if seq in features_shap_values_dict:\n",
        "                matches.append((seq, sequence_dict[seq], col))\n",
        "    return matches\n",
        "\n",
        "# Find matches\n",
        "matches = find_matches(motifs, features_shap_values_dict)\n",
        "print(\"Matches found:\")\n",
        "print(matches)"
      ]
    },
    {
      "cell_type": "code",
      "execution_count": null,
      "metadata": {
        "collapsed": true,
        "jupyter": {
          "outputs_hidden": true
        },
        "scrolled": true,
        "id": "ybX0NWDJwUAK",
        "outputId": "3ca63413-e905-4a70-b111-759655bae5c7"
      },
      "outputs": [
        {
          "data": {
            "text/plain": [
              "{'GGCGGC': -0.006045882940245729,\n",
              " 'GCGG': -0.005652427558138201,\n",
              " 'GGCGC': -0.0054059721891037095,\n",
              " 'GCGC': -0.004266516014538853,\n",
              " 'GATC': -0.004107373383877538,\n",
              " 'ATAT': -0.0035163386569775543,\n",
              " 'GTC': -0.003509296909778591,\n",
              " 'ACGG': -0.0035059004073727555,\n",
              " 'GAC': -0.0034704551173685124,\n",
              " 'GA': -0.0034521597551517577,\n",
              " 'GTGC': -0.003316871046594019,\n",
              " 'GT': -0.003305314871048267,\n",
              " 'GGGG': -0.003043479695185466,\n",
              " 'AT': -0.0029392600109638405,\n",
              " 'GG': -0.002908844966011686,\n",
              " 'GGGC': -0.002685879860691928,\n",
              " 'TAT': -0.0026535457067905508,\n",
              " 'GAAC': -0.0025802841988227265,\n",
              " 'CCCC': -0.002521377181784007,\n",
              " 'TAC': -0.0025127259543481985,\n",
              " 'AGCGC': -0.0024411076674786705,\n",
              " '[PAD]': -0.0024293890863916583,\n",
              " 'GC': -0.0022303985853226117,\n",
              " 'GGAC': -0.00220190455926316,\n",
              " 'GTGCC': -0.002137249482295705,\n",
              " 'AGCCC': 0.0011725388185971776,\n",
              " 'AGC': 0.0012263556950951409,\n",
              " 'TGGAA': 0.0013120570277961499,\n",
              " 'AGGAGG': 0.0013550643519618906,\n",
              " 'AAAA': 0.0014228710167530543,\n",
              " 'AGGC': 0.0014418839515733613,\n",
              " 'TCCC': 0.0014427534221716322,\n",
              " 'TCC': 0.0014828793975452503,\n",
              " 'AGAGC': 0.0015707461720014405,\n",
              " 'AAAAAA': 0.0016052336153252816,\n",
              " 'AGAA': 0.0016104739694446568,\n",
              " 'TGAA': 0.001703297159159101,\n",
              " 'AGCAA': 0.0018126824139213108,\n",
              " 'TGA': 0.0018262782046126224,\n",
              " 'AGA': 0.00186506108293914,\n",
              " 'TGTGG': 0.0018721005690865973,\n",
              " 'ATTTC': 0.002093998639242324,\n",
              " 'ACAGC': 0.002428521617193944,\n",
              " 'AGCC': 0.002465617638855265,\n",
              " 'ACAGG': 0.0025861578301961995,\n",
              " 'AGCTC': 0.002685541131170181,\n",
              " 'AAAT': 0.0028379294396813893,\n",
              " 'TGAGG': 0.0030883401737605244,\n",
              " 'ATTTT': 0.004066018309233512,\n",
              " 'TTCAA': 0.00464685055957021}"
            ]
          },
          "execution_count": 35,
          "metadata": {},
          "output_type": "execute_result"
        }
      ],
      "source": [
        "combined_dict"
      ]
    },
    {
      "cell_type": "code",
      "execution_count": null,
      "metadata": {
        "collapsed": true,
        "jupyter": {
          "outputs_hidden": true
        },
        "scrolled": true,
        "id": "CSaiI5N_wUAL",
        "outputId": "1684579e-b0ab-434e-e722-386e42235d95"
      },
      "outputs": [
        {
          "data": {
            "text/plain": [
              "{'C': -0.0011812174974856668,\n",
              " 'ACAC': 0.0009085473968501449,\n",
              " 'ATAC': -0.001325716573114559,\n",
              " 'AGTC': 0.0005971096434282274,\n",
              " 'TCCC': 0.0014427534221716322,\n",
              " 'TGGGG': 0.000539209451851978,\n",
              " 'CC': 3.456695975775123e-05,\n",
              " 'AATC': 8.40535554722696e-06,\n",
              " 'TAC': -0.0025127259543481985,\n",
              " 'TGCCC': 0.00010137856624455575,\n",
              " 'TGAAC': -6.687530171111174e-05,\n",
              " 'TCAC': -0.00011609413011581134,\n",
              " 'ATC': -0.0008016463948857032,\n",
              " 'AGCC': 0.002465617638855265,\n",
              " 'AGG': 0.0011715462005233923,\n",
              " 'TGCC': 0.00030083679028411014,\n",
              " 'TGGCC': 0.0004343065114284673,\n",
              " 'GG': -0.002908844966011686,\n",
              " 'GTC': -0.003509296909778591,\n",
              " 'TGTC': 4.491489150827514e-05,\n",
              " 'TCTT': 0.000838150344021571,\n",
              " 'GTT': -0.001542043509277135,\n",
              " 'AC': -0.00013522209604768754,\n",
              " 'ATGC': -0.000749596922847543,\n",
              " 'GGGGC': -0.0020323730550051806,\n",
              " 'GCAC': -0.0006448704935088306,\n",
              " 'CCC': -0.0001692095376375552,\n",
              " 'GGC': -0.0010287029691834985,\n",
              " 'AGA': 0.00186506108293914,\n",
              " 'TGAGG': 0.0030883401737605244,\n",
              " 'GTGC': -0.003316871046594019,\n",
              " 'GC': -0.0022303985853226117,\n",
              " 'AGGGG': 0.00016671374672112073,\n",
              " 'GCGC': -0.004266516014538853,\n",
              " 'AGGGC': 0.0002712486041690208,\n",
              " 'TGGGC': 0.00018662473951761664,\n",
              " 'GTCCC': -0.0005540847104062229,\n",
              " 'GCCCCC': -0.0006061758397825792,\n",
              " 'ACC': -0.0003324786321231711,\n",
              " 'AGCCC': 0.0011725388185971776,\n",
              " 'TCGC': -0.0016817020407211179,\n",
              " 'CCCC': -0.002521377181784007,\n",
              " 'GCCCC': -0.00014457963174984052,\n",
              " 'TCC': 0.0014828793975452503,\n",
              " 'GT': -0.003305314871048267,\n",
              " 'AGTT': 0.0003189283009762575,\n",
              " 'GCCC': -0.00036615194829005287,\n",
              " 'GCCGCC': -0.0006954492117988792,\n",
              " 'TCCGC': -3.6415455603821925e-05,\n",
              " 'GCTC': -0.00026848518816517436,\n",
              " 'GAC': -0.0034704551173685124,\n",
              " 'TCTC': 0.00044887120984879344,\n",
              " 'GAGC': -0.0004753769021449619,\n",
              " 'TGGC': 0.000237729340843176,\n",
              " 'AGC': 0.0012263556950951409,\n",
              " 'AGGC': 0.0014418839515733613,\n",
              " 'GGGC': -0.002685879860691928,\n",
              " 'TGTGG': 0.0018721005690865973,\n",
              " 'GCCGC': -0.0007582731234115997,\n",
              " 'GCGG': -0.005652427558138201,\n",
              " 'TCCGG': -0.0003611247853902321,\n",
              " 'TGTTC': 4.253098920095439e-05,\n",
              " 'ATTC': -3.387658682522254e-06,\n",
              " 'ATGA': 0.00012797025008557455,\n",
              " 'TTGG': 6.47001408120027e-05,\n",
              " 'TCGG': -0.001537057420243303,\n",
              " 'GAGAC': -0.00035506553081292736,\n",
              " 'GAGG': -0.0001679203592067869,\n",
              " 'GGAGC': -0.0001815383669453481,\n",
              " 'GAGT': -0.0011578210279149157,\n",
              " 'AGGAGG': 0.0013550643519618906,\n",
              " 'GGCGG': -0.0012416935034072416,\n",
              " 'ACGG': -0.0035059004073727555,\n",
              " 'GGCTC': 0.00048245142781021434,\n",
              " 'GGGCGG': -0.0005458915523116422,\n",
              " 'GTGTC': -0.000377013491205576,\n",
              " 'AGTGC': 0.00021878237174000964,\n",
              " 'TTC': -3.1521379850627046e-05,\n",
              " 'GTCC': -0.0013561966058572063,\n",
              " 'GAACC': -0.00025288448553760035,\n",
              " 'GCCGG': -0.001489558690296781,\n",
              " 'G': -0.00023629528382402475,\n",
              " '[PAD]': -0.0024293890863916583,\n",
              " 'ATTTC': 0.002093998639242324,\n",
              " 'ATTTT': 0.004066018309233512,\n",
              " 'GAA': -0.001064571848811866,\n",
              " 'ACCC': 0.00022717793652005311,\n",
              " 'TTGA': 0.0002054005232250069,\n",
              " 'ATTCC': 0.00024778229374033625,\n",
              " 'AGCCCC': 0.0005467914443929608,\n",
              " 'AAGG': 0.0006533717240966814,\n",
              " 'TCCTCC': 0.0007923761337279553,\n",
              " 'TCCCC': -2.4247416735439702e-05,\n",
              " 'GGCCCC': -0.00015900530854682227,\n",
              " 'TGT': 0.0005595043964328128,\n",
              " 'TGG': 0.0011419704952836493,\n",
              " 'GGGG': -0.003043479695185466,\n",
              " 'GA': -0.0034521597551517577,\n",
              " 'TGAC': -2.9317273745070215e-05,\n",
              " 'TGC': 0.0008105421221753871,\n",
              " 'AGAA': 0.0016104739694446568,\n",
              " 'GCC': -0.0009291034316844404,\n",
              " 'TGAA': 0.001703297159159101,\n",
              " 'GGGGGC': -0.0014721080193236542,\n",
              " 'AGCGC': -0.0024411076674786705,\n",
              " 'TTTT': 0.0007581044610243718,\n",
              " 'TGTGC': 0.0002408131817592329,\n",
              " 'TGTCC': 0.0005190398292383567,\n",
              " 'GATT': -0.0005716233923196941,\n",
              " 'AGTGG': 0.00029816897650096393,\n",
              " 'AGCAGC': 0.0005356660369928184,\n",
              " 'GATC': -0.004107373383877538,\n",
              " 'AGCGG': -0.0012077284493360219,\n",
              " 'AGAC': 0.00012082496518690439,\n",
              " 'AGAGC': 0.0015707461720014405,\n",
              " 'GTGG': -0.0008733504123213647,\n",
              " 'TTGC': -0.0004084748721511465,\n",
              " 'TATC': -0.0014690705998930992,\n",
              " 'GACCC': -0.0008110927025453075,\n",
              " 'TTCCC': 0.0006410709216444405,\n",
              " 'TGCTC': 6.376774250983645e-05,\n",
              " 'TCTCC': -2.687245301455791e-05,\n",
              " 'TT': -0.0003141425342061419,\n",
              " 'AGAGG': 0.000701930037247984,\n",
              " 'AGCAA': 0.0018126824139213108,\n",
              " 'AGT': 0.0004778876296716218,\n",
              " 'ACTC': 0.0005445723161351751,\n",
              " 'ACCCC': 0.00019317479416341662,\n",
              " 'TC': -0.00011909028863232143,\n",
              " 'TTTTC': 0.0009420496109984368,\n",
              " 'AGAAC': 0.0008630571967619419,\n",
              " 'ATTAA': -7.396768688094242e-05,\n",
              " 'TTAA': 0.00014849808543958485,\n",
              " 'ATT': 0.00029298045408510874,\n",
              " 'TGTT': 0.00018693800798824916,\n",
              " 'TAGTT': -0.0016221458326311972,\n",
              " 'GGAA': -0.00023321237956368683,\n",
              " 'ATGG': -0.0003402353389161288,\n",
              " 'ATGAA': 0.0004293088116671633,\n",
              " 'AATT': 0.0004483381971544004,\n",
              " 'GTTCC': -0.0004602749297859364,\n",
              " 'AAC': -0.00035051279313849974,\n",
              " 'GGGA': -0.0008520742391450887,\n",
              " 'TTTAA': 0.00028813196250224046,\n",
              " 'AGACC': 0.00019368822773570282,\n",
              " 'AA': 0.0006057942932739524,\n",
              " 'TCAA': -0.00018367764340161317,\n",
              " 'TTCC': 0.001074712038900169,\n",
              " 'ATCC': -0.00033841714951695484,\n",
              " 'TACC': -0.001275791936235451,\n",
              " 'AT': -0.0029392600109638405,\n",
              " 'TTCTC': 5.15559920679e-05,\n",
              " 'TATTC': -0.0004960546650010062,\n",
              " 'TTTC': 0.0009570991270419151,\n",
              " 'TATT': 0.00020526483851476376,\n",
              " 'GTAC': -0.0015070629478600847,\n",
              " 'ATAA': -0.0007020901183638078,\n",
              " 'TAT': -0.0026535457067905508,\n",
              " 'ATGT': -0.0005294871853279727,\n",
              " 'AAGC': 0.00019087055974898855,\n",
              " 'ATATT': -0.0005858323974891154,\n",
              " 'TAA': -0.00022044901200118775,\n",
              " 'ACAGC': 0.002428521617193944,\n",
              " 'GTTTT': -8.286428669750201e-05,\n",
              " 'AAAA': 0.0014228710167530543,\n",
              " 'TGA': 0.0018262782046126224,\n",
              " 'GAAAA': 0.0005649071516756776,\n",
              " 'AGCTC': 0.002685541131170181,\n",
              " 'AAAAAA': 0.0016052336153252816,\n",
              " 'AACAA': 0.00042498213557393296,\n",
              " 'AAAT': 0.0028379294396813893,\n",
              " 'TTGTT': 4.410089378812468e-05,\n",
              " 'GTAA': -0.002004407107286611,\n",
              " 'AACC': -6.916653295953582e-05,\n",
              " 'ACAA': 0.0003072072618814196,\n",
              " 'GTGTT': -0.0009302438683716355,\n",
              " 'ACGC': -0.0019926277919566295,\n",
              " 'TAGAA': 0.0008224361906626847,\n",
              " 'GGCC': -0.0005409293755370931,\n",
              " 'TAGG': -0.0005607327865265301,\n",
              " 'TGGAA': 0.0013120570277961499,\n",
              " 'GTGA': -0.0001214086218804341,\n",
              " 'GAGA': -0.0003153547402600635,\n",
              " 'TGCGG': -0.0012166739495132657,\n",
              " 'GACC': -0.0018634903918940966,\n",
              " 'GAGCC': 0.00039848298944201966,\n",
              " 'GGAGG': -0.00021649978828686156,\n",
              " 'AGTTC': 0.0006808053804217995,\n",
              " 'GTTC': -0.001249974350389337,\n",
              " 'TTTGG': 0.00018635928253936767,\n",
              " 'GAGGC': -0.00015783009681811697,\n",
              " 'TGAGC': 0.0009291577365424925,\n",
              " 'TCTGG': 0.000833674930477431,\n",
              " 'GGGGCC': -0.0004468651913652359,\n",
              " 'ATGTT': 0.00014916809615441446,\n",
              " 'GAAGG': -2.363825312080404e-05,\n",
              " 'TAAAA': 0.0005115984413859475,\n",
              " 'GCAA': -0.0005726599505298474,\n",
              " 'ACTT': 0.0006777398843930476,\n",
              " 'AGGCC': -3.912480641117919e-05,\n",
              " 'A': 5.756921690497668e-05,\n",
              " 'GGCCC': -0.0014208543647395609,\n",
              " 'TCTGC': 0.0005906532562026287,\n",
              " 'GCGCGC': 0.00018991174613634796,\n",
              " 'GTGGC': -0.0008583355236453569,\n",
              " 'TGCGC': -0.0012132136999447505,\n",
              " 'GAGAA': -0.0005064671003388118,\n",
              " 'GCCAA': -0.00011148650947377989,\n",
              " 'ATCCC': -0.00020872797671102434,\n",
              " 'GGAC': -0.00220190455926316,\n",
              " 'ACTGC': 0.00013169340163615955,\n",
              " 'TTTCC': 0.00035569918387096767,\n",
              " 'TAAC': -0.0009104633121045952,\n",
              " 'GGCGC': -0.0054059721891037095,\n",
              " 'AAAC': 0.000899393168167742,\n",
              " 'TGACC': 0.0006615751677013762,\n",
              " 'TAGT': -0.0010025302489721016,\n",
              " 'GCCTC': 0.00011977126890564985,\n",
              " 'AGTCC': 6.446323407525549e-05,\n",
              " 'TCCTC': 0.0001809818657745026,\n",
              " 'ACCGC': -0.0008624544402629706,\n",
              " 'TGCTGC': 0.0011392516039989942,\n",
              " 'TTGGC': 1.9479494518189247e-05,\n",
              " 'TTTGC': 0.0001907262022459262,\n",
              " 'ATGGC': 0.0001156121884870076,\n",
              " 'ACAGG': 0.0025861578301961995,\n",
              " 'GTGT': 0.00016488368623417436,\n",
              " 'GAAC': -0.0025802841988227265,\n",
              " 'TAGC': -0.0008178938845893876,\n",
              " 'ATAT': -0.0035163386569775543,\n",
              " 'AGGAA': 0.0007698661236390082,\n",
              " 'GAAGC': -3.1266405376562574e-05,\n",
              " 'TAGA': -0.0002908555682478532,\n",
              " 'ACTGG': 0.0007837054831878464,\n",
              " 'TTAC': -0.0014971265617404487,\n",
              " 'GTGAC': -0.0001098885018584823,\n",
              " 'GTGAA': -0.0005044967406397322,\n",
              " 'GTGCC': -0.002137249482295705,\n",
              " 'GGCGGC': -0.006045882940245729,\n",
              " 'T': -0.00023117453339324123,\n",
              " 'TTCAA': 0.00464685055957021}"
            ]
          },
          "execution_count": 34,
          "metadata": {},
          "output_type": "execute_result"
        }
      ],
      "source": [
        "features_shap_values_dict"
      ]
    },
    {
      "cell_type": "code",
      "execution_count": null,
      "metadata": {
        "id": "wcTEY4UywUAL",
        "outputId": "f26d14c2-6584-4a7f-9d94-add6b5aabc86"
      },
      "outputs": [
        {
          "data": {
            "image/png": "[encoded data removed]",
            "text/plain": [
              "<Figure size 2500x600 with 1 Axes>"
            ]
          },
          "metadata": {},
          "output_type": "display_data"
        }
      ],
      "source": [
        "plot_shap_values(combined_dict, \"Global\")"
      ]
    },
    {
      "cell_type": "markdown",
      "metadata": {
        "id": "2LuwHCxowUAM"
      },
      "source": [
        "local SHAP"
      ]
    },
    {
      "cell_type": "code",
      "execution_count": null,
      "metadata": {
        "id": "BG_4IxjfwUAM"
      },
      "outputs": [],
      "source": [
        "def shap_values_local(record_num):\n",
        "    # Create a defaultdict with float as the default factory function\n",
        "    shap_value_per_token = defaultdict(float)\n",
        "\n",
        "    # Iterate over the tokens in the specified record\n",
        "    for j, token in enumerate(shap_values.data[record_num]):\n",
        "        shap_value_for_token_in_seq = shap_values.values[record_num, j, 1]\n",
        "        shap_value_per_token[token] += shap_value_for_token_in_seq\n",
        "\n",
        "    # Change keys from tokens to sub-sequence features\n",
        "    features_shap_value_dict = {}\n",
        "    for key, item in shap_value_per_token.items():\n",
        "        detokenized_feature = tokens_and_features_dict.get(key, key)  # Use the key if it doesn't exist in the dict\n",
        "        features_shap_value_dict[detokenized_feature] = item\n",
        "\n",
        "    # Remove special tokens if they exist in the dictionary\n",
        "    special_tokens = ['[PAD]', '[SEP]', '[CLS]']\n",
        "    for token in special_tokens:\n",
        "        if token in features_shap_value_dict:\n",
        "            del features_shap_value_dict[token]\n",
        "\n",
        "    return features_shap_value_dict"
      ]
    },
    {
      "cell_type": "code",
      "execution_count": null,
      "metadata": {
        "id": "VqDwUsrPwUAO"
      },
      "outputs": [],
      "source": [
        "shap_values_record7 = shap_values_local(57)\n",
        "shap_values_record1 = shap_values_local(1)\n",
        "shap_values_record2 = shap_values_local(2)"
      ]
    },
    {
      "cell_type": "code",
      "execution_count": null,
      "metadata": {
        "id": "9Cv2xUyjwUAP",
        "outputId": "e3275b4f-064c-49c3-f1e4-11400b07530b"
      },
      "outputs": [
        {
          "data": {
            "image/png": "[encoded data removed]",
            "text/plain": [
              "<Figure size 2500x600 with 1 Axes>"
            ]
          },
          "metadata": {},
          "output_type": "display_data"
        }
      ],
      "source": [
        "plot_shap_values(shap_values_record7, \"Local\")"
      ]
    },
    {
      "cell_type": "code",
      "execution_count": null,
      "metadata": {
        "id": "d8hzCAk7wUAQ",
        "outputId": "76f2e592-6ad4-402b-c19c-9b62044a2c5b"
      },
      "outputs": [
        {
          "data": {
            "image/png": "[encoded data removed]",
            "text/plain": [
              "<Figure size 2500x600 with 1 Axes>"
            ]
          },
          "metadata": {},
          "output_type": "display_data"
        }
      ],
      "source": [
        "plot_shap_values(shap_values_record1, \"Local\")"
      ]
    },
    {
      "cell_type": "code",
      "execution_count": null,
      "metadata": {
        "id": "aOPFg4imwUAR",
        "outputId": "c5339bf9-d5d9-4b8a-c4de-248fcc785bd5"
      },
      "outputs": [
        {
          "data": {
            "image/png": "[encoded data removed]",
            "text/plain": [
              "<Figure size 2500x600 with 1 Axes>"
            ]
          },
          "metadata": {},
          "output_type": "display_data"
        }
      ],
      "source": [
        "plot_shap_values(shap_values_record2, \"Local\")"
      ]
    },
    {
      "cell_type": "code",
      "execution_count": null,
      "metadata": {
        "id": "IWdlV_uPwUAR",
        "outputId": "4c90a640-ea69-4698-a26f-d38a817a2691"
      },
      "outputs": [
        {
          "data": {
            "image/png": "[encoded data removed]",
            "text/plain": [
              "<Figure size 2500x600 with 1 Axes>"
            ]
          },
          "metadata": {},
          "output_type": "display_data"
        }
      ],
      "source": [
        "shap_values_record6 = shap_values_local(6)\n",
        "plot_shap_values(shap_values_record6, \"Local\")"
      ]
    },
    {
      "cell_type": "markdown",
      "metadata": {
        "jp-MarkdownHeadingCollapsed": true,
        "id": "dE0zA2RDwUAS"
      },
      "source": [
        "# results plots"
      ]
    },
    {
      "cell_type": "code",
      "execution_count": null,
      "metadata": {
        "id": "VP2zf6nTwUAS",
        "outputId": "9e6506a0-fb9a-4436-f68a-3199237030e5"
      },
      "outputs": [
        {
          "data": {
            "image/png": "[encoded data removed]",
            "text/plain": [
              "<Figure size 1200x600 with 1 Axes>"
            ]
          },
          "metadata": {},
          "output_type": "display_data"
        }
      ],
      "source": [
        "import matplotlib.pyplot as plt\n",
        "import pandas as pd\n",
        "\n",
        "# Organizing the data\n",
        "data = {\n",
        "    'Species': ['gallus', 'gallus', 'gallus', 'celegans', 'celegans', 'celegans', 'melanogaster', 'melanogaster', 'melanogaster',\n",
        "                'human', 'human', 'human', 'musculus', 'musculus', 'musculus', 'mulatta', 'mulatta', 'mulatta',\n",
        "                'norvegicus', 'norvegicus', 'norvegicus', 'rerio', 'rerio', 'rerio'],\n",
        "    'Method': ['BPE', 'WordPiece', '6-mer', 'BPE', 'WordPiece', '6-mer', 'BPE', 'WordPiece', '6-mer',\n",
        "               'BPE', 'WordPiece', '6-mer', 'BPE', 'WordPiece', '6-mer', 'BPE', 'WordPiece', '6-mer',\n",
        "               'BPE', 'WordPiece', '6-mer', 'BPE', 'WordPiece', '6-mer'],\n",
        "    'ACC': [0.7704, 0.7815, 0.7889, 0.7906, 0.7759, 0.8054, 0.724, 0.6981, 0.7346, 0.842, 0.8616, 0.8616,\n",
        "            0.821, 0.8686, 0.8973, 0.7353, 0.8529, 0.7941, 0.8221, 0.8344, 0.8374, 0.7986, 0.7822, 0.7904]\n",
        "}\n",
        "\n",
        "# Creating the DataFrame\n",
        "df = pd.DataFrame(data)\n",
        "\n",
        "# Define the species and methods\n",
        "species = ['gallus', 'celegans', 'melanogaster', 'human', 'musculus', 'mulatta', 'norvegicus', 'rerio']\n",
        "methods = ['BPE', 'WordPiece', '6-mer']\n",
        "\n",
        "# Creating a bar plot for ACC\n",
        "fig, ax = plt.subplots(figsize=(12, 6))\n",
        "\n",
        "# Setting the bar width and positions\n",
        "bar_width = 0.25\n",
        "r1 = np.arange(len(species))\n",
        "r2 = [x + bar_width for x in r1]\n",
        "r3 = [x + bar_width for x in r2]\n",
        "\n",
        "# Plotting the bars\n",
        "ax.bar(r1, df[df['Method'] == 'BPE']['ACC'], color='#ADD8E6', width=bar_width, edgecolor='grey', label='BPE')\n",
        "ax.bar(r2, df[df['Method'] == 'WordPiece']['ACC'], color='#90EE90', width=bar_width, edgecolor='grey', label='WordPiece')\n",
        "ax.bar(r3, df[df['Method'] == '6-mer']['ACC'], color='#FFB6C1', width=bar_width, edgecolor='grey', label='6-mer')\n",
        "\n",
        "# Adding labels and title\n",
        "ax.set_xlabel('Species', fontweight='bold')\n",
        "ax.set_ylabel('ACC', fontweight='bold')\n",
        "ax.set_title('ACC Comparison by Species and Method')\n",
        "ax.set_xticks([r + bar_width for r in range(len(species))])\n",
        "ax.set_xticklabels(species, rotation=45)\n",
        "ax.legend()\n",
        "\n",
        "plt.tight_layout()\n",
        "plt.show()"
      ]
    },
    {
      "cell_type": "code",
      "execution_count": null,
      "metadata": {
        "id": "RiGGvSxVwUAT",
        "outputId": "974cbfc4-06ba-4a96-ee58-c177029e3445"
      },
      "outputs": [
        {
          "data": {
            "image/png": "[encoded data removed]",
            "text/plain": [
              "<Figure size 1200x600 with 1 Axes>"
            ]
          },
          "metadata": {},
          "output_type": "display_data"
        }
      ],
      "source": [
        "import matplotlib.pyplot as plt\n",
        "import numpy as np\n",
        "import pandas as pd\n",
        "\n",
        "# Organizing the data\n",
        "data_acc = {\n",
        "    'Species': ['gallus', 'gallus', 'gallus', 'celegans', 'celegans', 'celegans', 'melanogaster', 'melanogaster', 'melanogaster',\n",
        "                'human', 'human', 'human', 'musculus', 'musculus', 'musculus', 'mulatta', 'mulatta', 'mulatta',\n",
        "                'norvegicus', 'norvegicus', 'norvegicus', 'rerio', 'rerio', 'rerio'],\n",
        "    'Method': ['BPE', 'WordPiece', '6-mer', 'BPE', 'WordPiece', '6-mer', 'BPE', 'WordPiece', '6-mer',\n",
        "               'BPE', 'WordPiece', '6-mer', 'BPE', 'WordPiece', '6-mer', 'BPE', 'WordPiece', '6-mer',\n",
        "               'BPE', 'WordPiece', '6-mer', 'BPE', 'WordPiece', '6-mer'],\n",
        "    'ACC': [0.8063, 0.7896, 0.7969, 0.774, 0.787, 0.7965, 0.7532, 0.7283, 0.7654, 0.8429, 0.857, 0.8599,\n",
        "           0.8172, 0.8688, 0.8702, 0.7908, 0.8164, 0.8049, 0.8081, 0.8409, 0.8365, 0.7881, 0.7909, 0.803]\n",
        "}\n",
        "\n",
        "# Creating the DataFrame\n",
        "df_acc = pd.DataFrame(data_acc)\n",
        "\n",
        "# Define the species and methods\n",
        "species = ['gallus', 'celegans', 'melanogaster', 'human', 'musculus', 'mulatta', 'norvegicus', 'rerio']\n",
        "methods = ['BPE', 'WordPiece', '6-mer']\n",
        "\n",
        "# Creating a bar plot for ACC\n",
        "fig, ax = plt.subplots(figsize=(12, 6))\n",
        "\n",
        "# Setting the bar width and positions\n",
        "bar_width = 0.25\n",
        "r1 = np.arange(len(species))\n",
        "r2 = [x + bar_width for x in r1]\n",
        "r3 = [x + bar_width for x in r2]\n",
        "\n",
        "# Plotting the bars with pastel colors\n",
        "ax.bar(r1, df_acc[df_acc['Method'] == 'BPE']['ACC'], color='#ADD8E6', width=bar_width, edgecolor='grey', label='BPE')\n",
        "ax.bar(r2, df_acc[df_acc['Method'] == 'WordPiece']['ACC'], color='#90EE90', width=bar_width, edgecolor='grey', label='WordPiece')\n",
        "ax.bar(r3, df_acc[df_acc['Method'] == '6-mer']['ACC'], color='#FFB6C1', width=bar_width, edgecolor='grey', label='6-mer')\n",
        "\n",
        "# Adding labels and title\n",
        "ax.set_xlabel('Species', fontweight='bold')\n",
        "ax.set_ylabel('ACC', fontweight='bold')\n",
        "ax.set_title('ACC Comparison by Species and Method')\n",
        "ax.set_xticks([r + bar_width for r in range(len(species))])\n",
        "ax.set_xticklabels(species, rotation=45)\n",
        "ax.legend()\n",
        "\n",
        "plt.tight_layout()\n",
        "plt.show()\n"
      ]
    },
    {
      "cell_type": "markdown",
      "metadata": {
        "id": "npvNncvewUAU"
      },
      "source": [
        "#### second experiment - wpc"
      ]
    },
    {
      "cell_type": "code",
      "execution_count": null,
      "metadata": {
        "id": "YJv7Nc6cwUAU",
        "outputId": "8c5538c4-4deb-47bc-9fb4-b26af2ef50c8"
      },
      "outputs": [
        {
          "data": {
            "image/png": "[encoded data removed]",
            "text/plain": [
              "<Figure size 1200x1200 with 2 Axes>"
            ]
          },
          "metadata": {},
          "output_type": "display_data"
        }
      ],
      "source": [
        "import matplotlib.pyplot as plt\n",
        "import numpy as np\n",
        "import pandas as pd\n",
        "\n",
        "# Organizing the data for Method 1\n",
        "data_method1_acc = {\n",
        "    'Species': ['gallus', 'gallus', 'gallus', 'celegans', 'celegans', 'celegans', 'melanogaster', 'melanogaster', 'melanogaster',\n",
        "                'human', 'human', 'human', 'musculus', 'musculus', 'musculus', 'mulatta', 'mulatta', 'mulatta',\n",
        "                'norvegicus', 'norvegicus', 'norvegicus', 'rerio', 'rerio', 'rerio'],\n",
        "    'Method': ['TATA', 'NON TATA', 'TOGETHER', 'TATA', 'NON TATA', 'TOGETHER', 'TATA', 'NON TATA', 'TOGETHER',\n",
        "               'TATA', 'NON TATA', 'TOGETHER', 'TATA', 'NON TATA', 'TOGETHER', 'TATA', 'NON TATA', 'TOGETHER',\n",
        "               'TATA', 'NON TATA', 'TOGETHER', 'TATA', 'NON TATA', 'TOGETHER'],\n",
        "    'ACC': [0.8433, 0.8869, 0.8821, 0.6964, 0.8417, 0.821, 0.76609, 0.7555, 0.7573, 0.7681, 0.8428, 0.8351,\n",
        "           0.7877, 0.8342, 0.8281, 0.8235, 0.9055, 0.9046, 0.7737, 0.8666, 0.8666, 0.8373, 0.8569, 0.853]\n",
        "}\n",
        "\n",
        "# Creating the DataFrame\n",
        "df_method1_acc = pd.DataFrame(data_method1_acc)\n",
        "\n",
        "# Method 2 data\n",
        "data_method2_acc = {\n",
        "    'Species': ['gallus', 'gallus', 'gallus', 'celegans', 'celegans', 'celegans', 'melanogaster', 'melanogaster', 'melanogaster',\n",
        "                'human', 'human', 'human', 'musculus', 'musculus', 'musculus', 'mulatta', 'mulatta', 'mulatta',\n",
        "                'norvegicus', 'norvegicus', 'norvegicus', 'rerio', 'rerio', 'rerio'],\n",
        "    'Method': ['TATA', 'NON TATA', 'TOGETHER', 'TATA', 'NON TATA', 'TOGETHER', 'TATA', 'NON TATA', 'TOGETHER',\n",
        "               'TATA', 'NON TATA', 'TOGETHER', 'TATA', 'NON TATA', 'TOGETHER', 'TATA', 'NON TATA', 'TOGETHER',\n",
        "               'TATA', 'NON TATA', 'TOGETHER', 'TATA', 'NON TATA', 'TOGETHER'],\n",
        "    'ACC': [0.7815, 0.7906, 0.7896, 0.7759, 0.7889, 0.787, 0.6981, 0.7337, 0.7283, 0.8616, 0.8565, 0.857,\n",
        "           0.8686, 0.8689, 0.8688, 0.8529, 0.816, 0.8164, 0.8344, 0.8414, 0.8409, 0.7822, 0.793, 0.7909]\n",
        "}\n",
        "\n",
        "# Creating the DataFrame\n",
        "df_method2_acc = pd.DataFrame(data_method2_acc)\n",
        "\n",
        "# Define the species and methods\n",
        "species = ['gallus', 'celegans', 'melanogaster', 'human', 'musculus', 'mulatta', 'norvegicus', 'rerio']\n",
        "methods = ['TATA', 'NON TATA', 'TOGETHER']\n",
        "\n",
        "# Creating subplots for ACC\n",
        "fig, axs = plt.subplots(2, 1, figsize=(12, 12), sharey=True)\n",
        "\n",
        "# Setting the bar width and positions for Method 1\n",
        "bar_width = 0.25\n",
        "r1 = np.arange(len(species))\n",
        "r2 = [x + bar_width for x in r1]\n",
        "r3 = [x + bar_width for x in r2]\n",
        "\n",
        "# Plotting Method 1 bars with pastel colors\n",
        "axs[0].bar(r1, df_method1_acc[df_method1_acc['Method'] == 'TATA']['ACC'], color='#ADD8E6', width=bar_width, edgecolor='grey', label='TATA')\n",
        "axs[0].bar(r2, df_method1_acc[df_method1_acc['Method'] == 'NON TATA']['ACC'], color='#90EE90', width=bar_width, edgecolor='grey', label='NON TATA')\n",
        "axs[0].bar(r3, df_method1_acc[df_method1_acc['Method'] == 'TOGETHER']['ACC'], color='#FFB6C1', width=bar_width, edgecolor='grey', label='TOGETHER')\n",
        "\n",
        "# Adding labels and title for Method 1\n",
        "axs[0].set_xlabel('Species', fontweight='bold')\n",
        "axs[0].set_ylabel('ACC', fontweight='bold')\n",
        "axs[0].set_title('ACC Comparison by Species and Method - Method 1')\n",
        "axs[0].set_xticks([r + bar_width for r in range(len(species))])\n",
        "axs[0].set_xticklabels(species, rotation=45)\n",
        "axs[0].legend()\n",
        "\n",
        "# Plotting Method 2 bars with pastel colors\n",
        "axs[1].bar(r1, df_method2_acc[df_method2_acc['Method'] == 'TATA']['ACC'], color='#ADD8E6', width=bar_width, edgecolor='grey', label='TATA')\n",
        "axs[1].bar(r2, df_method2_acc[df_method2_acc['Method'] == 'NON TATA']['ACC'], color='#90EE90', width=bar_width, edgecolor='grey', label='NON TATA')\n",
        "axs[1].bar(r3, df_method2_acc[df_method2_acc['Method'] == 'TOGETHER']['ACC'], color='#FFB6C1', width=bar_width, edgecolor='grey', label='TOGETHER')\n",
        "\n",
        "# Adding labels and title for Method 2\n",
        "axs[1].set_xlabel('Species', fontweight='bold')\n",
        "axs[1].set_ylabel('ACC', fontweight='bold')\n",
        "axs[1].set_title('ACC Comparison by Species and Method - Method 2')\n",
        "axs[1].set_xticks([r + bar_width for r in range(len(species))])\n",
        "axs[1].set_xticklabels(species, rotation=45)\n",
        "axs[1].legend()\n",
        "\n",
        "plt.tight_layout()\n",
        "plt.show()"
      ]
    },
    {
      "cell_type": "code",
      "execution_count": null,
      "metadata": {
        "id": "zzqLddl1wUAU"
      },
      "outputs": [],
      "source": []
    }
  ],
  "metadata": {
    "accelerator": "GPU",
    "colab": {
      "collapsed_sections": [
        "QPl6NKroc-FJ"
      ],
      "gpuType": "T4",
      "provenance": []
    },
    "kernelspec": {
      "display_name": "Python 3 (ipykernel)",
      "language": "python",
      "name": "python3"
    },
    "language_info": {
      "codemirror_mode": {
        "name": "ipython",
        "version": 3
      },
      "file_extension": ".py",
      "mimetype": "text/x-python",
      "name": "python",
      "nbconvert_exporter": "python",
      "pygments_lexer": "ipython3",
      "version": "3.11.7"
    }
  },
  "nbformat": 4,
  "nbformat_minor": 0
}